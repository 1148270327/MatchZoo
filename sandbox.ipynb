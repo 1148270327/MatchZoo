{
 "cells": [
  {
   "cell_type": "code",
   "execution_count": 1,
   "metadata": {
    "ExecuteTime": {
     "end_time": "2018-12-02T04:07:01.549018Z",
     "start_time": "2018-12-02T04:06:59.791034Z"
    }
   },
   "outputs": [
    {
     "name": "stderr",
     "output_type": "stream",
     "text": [
      "Using TensorFlow backend.\n"
     ]
    }
   ],
   "source": [
    "import keras\n",
    "import pandas as pd\n",
    "import numpy as np\n",
    "import matchzoo as mz"
   ]
  },
  {
   "cell_type": "markdown",
   "metadata": {},
   "source": [
    "## Read Data "
   ]
  },
  {
   "cell_type": "code",
   "execution_count": 2,
   "metadata": {
    "ExecuteTime": {
     "end_time": "2018-12-02T04:07:01.617584Z",
     "start_time": "2018-12-02T04:07:01.550663Z"
    },
    "collapsed": true
   },
   "outputs": [],
   "source": [
    "def read_data(path, include_label):\n",
    "    def scan_file():\n",
    "        with open(path) as in_file:\n",
    "            next(in_file)  # skip header\n",
    "            for l in in_file:\n",
    "                yield l.strip().split('\\t')\n",
    "    if include_label:\n",
    "        return [(qid, did, q, d, float(label)) for qid, q, _, _, did, d, label in scan_file()]\n",
    "    else:\n",
    "        return [(qid, did, q, d) for qid, q, _, _, did, d, _ in scan_file()]\n",
    "\n",
    "train = read_data('data/WikiQA/WikiQACorpus/WikiQA-train.tsv', include_label=True)\n",
    "predict  = read_data('data/WikiQA/WikiQACorpus/WikiQA-test.tsv', include_label=False)"
   ]
  },
  {
   "cell_type": "markdown",
   "metadata": {},
   "source": [
    "## Preprocess Data"
   ]
  },
  {
   "cell_type": "code",
   "execution_count": 3,
   "metadata": {
    "ExecuteTime": {
     "end_time": "2018-12-02T04:07:01.641088Z",
     "start_time": "2018-12-02T04:07:01.619182Z"
    },
    "collapsed": true
   },
   "outputs": [],
   "source": [
    "train_pack = mz.pack(train[:1000])\n",
    "predict_pack = mz.pack(predict[:1000])"
   ]
  },
  {
   "cell_type": "code",
   "execution_count": 4,
   "metadata": {
    "ExecuteTime": {
     "end_time": "2018-12-02T04:07:01.988796Z",
     "start_time": "2018-12-02T04:07:01.644224Z"
    }
   },
   "outputs": [
    {
     "name": "stderr",
     "output_type": "stream",
     "text": [
      "Processing text_left with chain_transform of TokenizeUnit => LowercaseUnit => PuncRemovalUnit => StopRemovalUnit => NgramLetterUnit: 100%|██████████| 96/96 [00:00<00:00, 3622.12it/s]\n",
      "Processing text_right with chain_transform of TokenizeUnit => LowercaseUnit => PuncRemovalUnit => StopRemovalUnit => NgramLetterUnit: 100%|██████████| 1000/1000 [00:00<00:00, 3989.77it/s]\n",
      "Processing text_left with extend: 100%|██████████| 96/96 [00:00<00:00, 166385.61it/s]\n",
      "Processing text_right with extend: 100%|██████████| 1000/1000 [00:00<00:00, 352758.96it/s]\n",
      "Fitting vocabulary unit.: 100%|██████████| 84935/84935 [00:00<00:00, 2678903.08it/s]\n"
     ]
    },
    {
     "data": {
      "text/plain": [
       "<matchzoo.preprocessors.dssm_preprocessor.DSSMPreprocessor at 0x124795d68>"
      ]
     },
     "execution_count": 4,
     "metadata": {},
     "output_type": "execute_result"
    }
   ],
   "source": [
    "preprocessor = mz.preprocessors.DSSMPreprocessor()\n",
    "preprocessor.fit(train_pack)"
   ]
  },
  {
   "cell_type": "code",
   "execution_count": 5,
   "metadata": {
    "ExecuteTime": {
     "end_time": "2018-12-02T04:07:02.659137Z",
     "start_time": "2018-12-02T04:07:01.990349Z"
    }
   },
   "outputs": [
    {
     "name": "stderr",
     "output_type": "stream",
     "text": [
      "Processing text_left with chain_transform of TokenizeUnit => LowercaseUnit => PuncRemovalUnit => StopRemovalUnit => NgramLetterUnit => WordHashingUnit: 100%|██████████| 96/96 [00:00<00:00, 4320.64it/s]\n",
      "Processing text_right with chain_transform of TokenizeUnit => LowercaseUnit => PuncRemovalUnit => StopRemovalUnit => NgramLetterUnit => WordHashingUnit: 100%|██████████| 1000/1000 [00:00<00:00, 3157.26it/s]\n",
      "Processing text_left with chain_transform of TokenizeUnit => LowercaseUnit => PuncRemovalUnit => StopRemovalUnit => NgramLetterUnit => WordHashingUnit: 100%|██████████| 108/108 [00:00<00:00, 5879.10it/s]\n",
      "Processing text_right with chain_transform of TokenizeUnit => LowercaseUnit => PuncRemovalUnit => StopRemovalUnit => NgramLetterUnit => WordHashingUnit: 100%|██████████| 992/992 [00:00<00:00, 3328.73it/s]\n"
     ]
    }
   ],
   "source": [
    "train_pack_processed = preprocessor.transform(train_pack)\n",
    "predict_pack_processed = preprocessor.transform(predict_pack)"
   ]
  },
  {
   "cell_type": "markdown",
   "metadata": {
    "ExecuteTime": {
     "end_time": "2018-11-10T02:34:54.973094Z",
     "start_time": "2018-11-10T02:34:54.970086Z"
    }
   },
   "source": [
    "## Generate Data"
   ]
  },
  {
   "cell_type": "code",
   "execution_count": 6,
   "metadata": {
    "ExecuteTime": {
     "end_time": "2018-12-02T04:07:02.663287Z",
     "start_time": "2018-12-02T04:07:02.660863Z"
    },
    "collapsed": true
   },
   "outputs": [],
   "source": [
    "train_generator = mz.DataGenerator(train_pack_processed, batch_size=32)"
   ]
  },
  {
   "cell_type": "markdown",
   "metadata": {
    "ExecuteTime": {
     "end_time": "2018-11-10T02:35:25.875534Z",
     "start_time": "2018-11-10T02:35:25.873244Z"
    }
   },
   "source": [
    "## Model Building"
   ]
  },
  {
   "cell_type": "code",
   "execution_count": 7,
   "metadata": {
    "ExecuteTime": {
     "end_time": "2018-12-02T04:07:02.674089Z",
     "start_time": "2018-12-02T04:07:02.664827Z"
    }
   },
   "outputs": [
    {
     "data": {
      "text/plain": [
       "['mae',\n",
       " mean_average_precision(0),\n",
       " precision@1(0),\n",
       " precision@3(0),\n",
       " discounted_cumulative_gain@1(0),\n",
       " discounted_cumulative_gain@3(0),\n",
       " discounted_cumulative_gain@5(0),\n",
       " normalized_discounted_cumulative_gain@1(0),\n",
       " normalized_discounted_cumulative_gain@3(0),\n",
       " normalized_discounted_cumulative_gain@5(0)]"
      ]
     },
     "execution_count": 7,
     "metadata": {},
     "output_type": "execute_result"
    }
   ],
   "source": [
    "ranking_task = mz.tasks.Ranking()\n",
    "ranking_task.metrics = [\n",
    "    'mae', 'map', 'precision',\n",
    "    mz.metrics.Precision(k=3),\n",
    "    mz.metrics.DiscountedCumulativeGain(k=1),\n",
    "    mz.metrics.DiscountedCumulativeGain(k=3),\n",
    "    mz.metrics.DiscountedCumulativeGain(k=5),\n",
    "    mz.metrics.NormalizedDiscountedCumulativeGain(k=1),\n",
    "    mz.metrics.NormalizedDiscountedCumulativeGain(k=3),\n",
    "    mz.metrics.NormalizedDiscountedCumulativeGain(k=5)\n",
    "]\n",
    "ranking_task.metrics"
   ]
  },
  {
   "cell_type": "code",
   "execution_count": 8,
   "metadata": {
    "ExecuteTime": {
     "end_time": "2018-12-02T04:07:02.796772Z",
     "start_time": "2018-12-02T04:07:02.677216Z"
    }
   },
   "outputs": [
    {
     "name": "stdout",
     "output_type": "stream",
     "text": [
      "Parameter \"name\" set to DSSMModel.\n"
     ]
    }
   ],
   "source": [
    "model = mz.models.DSSMModel()\n",
    "model.params['task'] = ranking_task\n",
    "model.params['input_shapes'] = preprocessor.context['input_shapes']\n",
    "model.guess_and_fill_missing_params()\n",
    "model.build()\n",
    "model.compile()"
   ]
  },
  {
   "cell_type": "markdown",
   "metadata": {},
   "source": [
    "## Model Training"
   ]
  },
  {
   "cell_type": "code",
   "execution_count": 9,
   "metadata": {
    "ExecuteTime": {
     "end_time": "2018-12-02T04:07:04.380002Z",
     "start_time": "2018-12-02T04:07:02.798742Z"
    }
   },
   "outputs": [
    {
     "name": "stdout",
     "output_type": "stream",
     "text": [
      "Epoch 1/2\n",
      "1000/1000 [==============================] - 1s 699us/step - loss: 0.1776 - mean_absolute_error: 0.3276\n",
      "Epoch 2/2\n",
      "1000/1000 [==============================] - 0s 419us/step - loss: 0.1659 - mean_absolute_error: 0.3271\n"
     ]
    },
    {
     "data": {
      "text/plain": [
       "<keras.callbacks.History at 0x125b31198>"
      ]
     },
     "execution_count": 9,
     "metadata": {},
     "output_type": "execute_result"
    }
   ],
   "source": [
    "model.fit(*train_pack_processed.unpack(), epochs=2, batch_size=32)"
   ]
  },
  {
   "cell_type": "code",
   "execution_count": 10,
   "metadata": {
    "ExecuteTime": {
     "end_time": "2018-12-02T04:07:05.738574Z",
     "start_time": "2018-12-02T04:07:04.381742Z"
    }
   },
   "outputs": [
    {
     "name": "stdout",
     "output_type": "stream",
     "text": [
      "Epoch 1/2\n",
      "32/32 [==============================] - 1s 19ms/step - loss: 0.0602 - mean_absolute_error: 0.1822\n",
      "Epoch 2/2\n",
      "32/32 [==============================] - 1s 20ms/step - loss: 0.0255 - mean_absolute_error: 0.1177\n"
     ]
    },
    {
     "data": {
      "text/plain": [
       "<keras.callbacks.History at 0x124795b00>"
      ]
     },
     "execution_count": 10,
     "metadata": {},
     "output_type": "execute_result"
    }
   ],
   "source": [
    "model.fit_generator(train_generator, epochs=2, workers=4, use_multiprocessing=True)"
   ]
  },
  {
   "cell_type": "markdown",
   "metadata": {},
   "source": [
    "### Training with Dynamic Data Generator"
   ]
  },
  {
   "cell_type": "code",
   "execution_count": 11,
   "metadata": {
    "ExecuteTime": {
     "end_time": "2018-12-02T04:07:07.838828Z",
     "start_time": "2018-12-02T04:07:05.741621Z"
    }
   },
   "outputs": [
    {
     "name": "stderr",
     "output_type": "stream",
     "text": [
      "Processing text_left with chain_transform of TokenizeUnit => LowercaseUnit => PuncRemovalUnit => StopRemovalUnit => NgramLetterUnit: 100%|██████████| 96/96 [00:00<00:00, 6628.36it/s]\n",
      "Processing text_right with chain_transform of TokenizeUnit => LowercaseUnit => PuncRemovalUnit => StopRemovalUnit => NgramLetterUnit: 100%|██████████| 1000/1000 [00:00<00:00, 3725.87it/s]\n",
      "Processing text_left with extend: 100%|██████████| 96/96 [00:00<00:00, 128684.30it/s]\n",
      "Processing text_right with extend: 100%|██████████| 1000/1000 [00:00<00:00, 271810.25it/s]\n",
      "Fitting vocabulary unit.: 100%|██████████| 84935/84935 [00:00<00:00, 2653304.01it/s]\n",
      "Processing text_left with chain_transform of TokenizeUnit => LowercaseUnit => PuncRemovalUnit => StopRemovalUnit => NgramLetterUnit: 100%|██████████| 96/96 [00:00<00:00, 7011.93it/s]\n",
      "Processing text_right with chain_transform of TokenizeUnit => LowercaseUnit => PuncRemovalUnit => StopRemovalUnit => NgramLetterUnit: 100%|██████████| 1000/1000 [00:00<00:00, 3975.77it/s]"
     ]
    },
    {
     "name": "stdout",
     "output_type": "stream",
     "text": [
      "Epoch 1/2\n"
     ]
    },
    {
     "name": "stderr",
     "output_type": "stream",
     "text": [
      "\n"
     ]
    },
    {
     "name": "stdout",
     "output_type": "stream",
     "text": [
      "32/32 [==============================] - 1s 21ms/step - loss: 0.0112 - mean_absolute_error: 0.0781\n",
      "Epoch 2/2\n",
      "32/32 [==============================] - 1s 24ms/step - loss: 0.0072 - mean_absolute_error: 0.0622\n"
     ]
    },
    {
     "data": {
      "text/plain": [
       "<keras.callbacks.History at 0x125a72390>"
      ]
     },
     "execution_count": 11,
     "metadata": {},
     "output_type": "execute_result"
    }
   ],
   "source": [
    "pp_no_hashing = mz.preprocessors.DSSMPreprocessor(with_word_hashing=False)\n",
    "train_pack_processed_no_hashing = pp_no_hashing.fit_transform(train_pack)\n",
    "word_hashing_unit = mz.processor_units.WordHashingUnit(pp_no_hashing.context['vocab_unit'].state['term_index'])\n",
    "dynamic_data_generator = mz.data_generator.DynamicDataGenerator(word_hashing_unit.transform,\n",
    "                                                                train_pack_processed_no_hashing)\n",
    "model.fit_generator(dynamic_data_generator, epochs=2, workers=4, use_multiprocessing=True)"
   ]
  },
  {
   "cell_type": "markdown",
   "metadata": {
    "ExecuteTime": {
     "end_time": "2018-11-10T03:13:53.981929Z",
     "start_time": "2018-11-10T03:13:53.979557Z"
    }
   },
   "source": [
    "## Model Predicting "
   ]
  },
  {
   "cell_type": "code",
   "execution_count": 12,
   "metadata": {
    "ExecuteTime": {
     "end_time": "2018-12-02T04:07:07.933673Z",
     "start_time": "2018-12-02T04:07:07.841938Z"
    }
   },
   "outputs": [
    {
     "data": {
      "text/plain": [
       "array([[0.742013  ],\n",
       "       [0.23119648],\n",
       "       [0.47507036],\n",
       "       [0.7948671 ],\n",
       "       [0.23675187],\n",
       "       [0.7501831 ],\n",
       "       [0.9322906 ],\n",
       "       [0.81654906],\n",
       "       [0.9279377 ],\n",
       "       [0.8422093 ]], dtype=float32)"
      ]
     },
     "execution_count": 12,
     "metadata": {},
     "output_type": "execute_result"
    }
   ],
   "source": [
    "model.predict(predict_pack_processed[:10].unpack()[0])"
   ]
  },
  {
   "cell_type": "markdown",
   "metadata": {},
   "source": [
    "## Model Evaluating"
   ]
  },
  {
   "cell_type": "code",
   "execution_count": 13,
   "metadata": {
    "ExecuteTime": {
     "end_time": "2018-12-02T04:07:08.321195Z",
     "start_time": "2018-12-02T04:07:07.936301Z"
    }
   },
   "outputs": [
    {
     "name": "stdout",
     "output_type": "stream",
     "text": [
      "1000/1000 [==============================] - 0s 123us/step\n"
     ]
    },
    {
     "data": {
      "text/plain": [
       "{'loss': 0.005807360898703337,\n",
       " 'mean_absolute_error': 0.05651593846082687,\n",
       " 'mean_average_precision(0)': 0.3333333333333333,\n",
       " 'precision@1(0)': 0.3333333333333333,\n",
       " 'precision@3(0)': 0.13194444444444445,\n",
       " 'discounted_cumulative_gain@1(0)': 0.4808983469629878,\n",
       " 'discounted_cumulative_gain@3(0)': 0.5338530547483661,\n",
       " 'discounted_cumulative_gain@5(0)': 0.5338530547483661,\n",
       " 'normalized_discounted_cumulative_gain@1(0)': 0.3333333333333333,\n",
       " 'normalized_discounted_cumulative_gain@3(0)': 0.3333333333333333,\n",
       " 'normalized_discounted_cumulative_gain@5(0)': 0.3333333333333333}"
      ]
     },
     "execution_count": 13,
     "metadata": {},
     "output_type": "execute_result"
    }
   ],
   "source": [
    "model.evaluate(*train_pack_processed.unpack())"
   ]
  },
  {
   "cell_type": "markdown",
   "metadata": {},
   "source": [
    "## Automation"
   ]
  },
  {
   "cell_type": "code",
   "execution_count": 14,
   "metadata": {
    "ExecuteTime": {
     "end_time": "2018-12-02T04:07:08.329932Z",
     "start_time": "2018-12-02T04:07:08.323093Z"
    },
    "collapsed": true
   },
   "outputs": [],
   "source": [
    "train_pack.shuffle(inplace=True)"
   ]
  },
  {
   "cell_type": "code",
   "execution_count": 15,
   "metadata": {
    "ExecuteTime": {
     "end_time": "2018-12-02T04:07:08.343300Z",
     "start_time": "2018-12-02T04:07:08.333944Z"
    },
    "collapsed": true
   },
   "outputs": [],
   "source": [
    "divider = int(len(train_pack) * 0.9)\n",
    "train_pack_divided = train_pack[:divider]\n",
    "test_pack_divided = train_pack[divider:]"
   ]
  },
  {
   "cell_type": "code",
   "execution_count": 16,
   "metadata": {
    "ExecuteTime": {
     "end_time": "2018-12-02T04:07:08.352395Z",
     "start_time": "2018-12-02T04:07:08.345506Z"
    }
   },
   "outputs": [],
   "source": [
    "director = mz.Director()\n",
    "director.params['models'] = [\n",
    "    mz.models.DenseBaselineModel(),\n",
    "    mz.models.DSSMModel(),\n",
    "    mz.models.ArcIModel(),\n",
    "    mz.models.KNRMModel(),\n",
    "    mz.models.ConvKNRMModel(),\n",
    "    mz.models.DUETModel()\n",
    "]\n",
    "director.params['evals_per_model'] = 3\n",
    "director.params['train_pack'] = train_pack_divided\n",
    "director.params['test_pack'] = test_pack_divided\n",
    "director.params['task'] = ranking_task"
   ]
  },
  {
   "cell_type": "code",
   "execution_count": 17,
   "metadata": {
    "ExecuteTime": {
     "end_time": "2018-12-02T04:09:02.195562Z",
     "start_time": "2018-12-02T04:07:08.354552Z"
    }
   },
   "outputs": [
    {
     "name": "stdout",
     "output_type": "stream",
     "text": [
      "Start tunning model #1 (total: 6).\n",
      "Model class: <class 'matchzoo.models.dense_baseline_model.DenseBaselineModel'>\n",
      "Finish tuning model #1 (total: 6)\n",
      "\n",
      "Start tunning model #2 (total: 6).\n",
      "Model class: <class 'matchzoo.models.dssm_model.DSSMModel'>\n",
      "Finish tuning model #2 (total: 6)\n",
      "\n",
      "Start tunning model #3 (total: 6).\n",
      "Model class: <class 'matchzoo.models.arci_model.ArcIModel'>\n",
      "Finish tuning model #3 (total: 6)\n",
      "\n",
      "Start tunning model #4 (total: 6).\n",
      "Model class: <class 'matchzoo.models.knrm_model.KNRMModel'>\n",
      "Finish tuning model #4 (total: 6)\n",
      "\n",
      "Start tunning model #5 (total: 6).\n",
      "Model class: <class 'matchzoo.models.conv_knrm_model.ConvKNRMModel'>\n",
      "Finish tuning model #5 (total: 6)\n",
      "\n",
      "Start tunning model #6 (total: 6).\n",
      "Model class: <class 'matchzoo.models.duet_model.DUETModel'>\n",
      "Finish tuning model #6 (total: 6)\n",
      "\n"
     ]
    }
   ],
   "source": [
    "trials = director.action(verbose=1)"
   ]
  },
  {
   "cell_type": "code",
   "execution_count": 18,
   "metadata": {
    "ExecuteTime": {
     "end_time": "2018-12-02T04:09:02.204442Z",
     "start_time": "2018-12-02T04:09:02.197228Z"
    }
   },
   "outputs": [
    {
     "name": "stdout",
     "output_type": "stream",
     "text": [
      "Model Name: DenseBaselineModel\n",
      "Hyper Parameter Sampled: {'num_dense_layers': 6.0, 'num_dense_units': 661.0}\n",
      "Loss: 2727.441162109375\n",
      "\n",
      "Model Name: DenseBaselineModel\n",
      "Hyper Parameter Sampled: {'num_dense_layers': 2.0, 'num_dense_units': 50.0}\n",
      "Loss: 671537.1875\n",
      "\n",
      "Model Name: DenseBaselineModel\n",
      "Hyper Parameter Sampled: {'num_dense_layers': 3.0, 'num_dense_units': 310.0}\n",
      "Loss: 21634.552734375\n",
      "\n",
      "Model Name: DSSMModel\n",
      "Hyper Parameter Sampled: {'dim_hidden': 35.0}\n",
      "Loss: 0.21021421253681183\n",
      "\n",
      "Model Name: DSSMModel\n",
      "Hyper Parameter Sampled: {'dim_hidden': 92.0}\n",
      "Loss: 0.141371488571167\n",
      "\n",
      "Model Name: DSSMModel\n",
      "Hyper Parameter Sampled: {'dim_hidden': 287.0}\n",
      "Loss: 0.07071972638368607\n",
      "\n",
      "Model Name: ArcIModel\n",
      "Hyper Parameter Sampled: {'dropout_rate': 0.41000000000000003, 'optimizer': 'adam', 'padding': 'valid'}\n",
      "Loss: 0.05953873693943024\n",
      "\n",
      "Model Name: ArcIModel\n",
      "Hyper Parameter Sampled: {'dropout_rate': 0.74, 'optimizer': 'adagrad', 'padding': 'valid'}\n",
      "Loss: 0.05837153270840645\n",
      "\n",
      "Model Name: ArcIModel\n",
      "Hyper Parameter Sampled: {'dropout_rate': 0.0, 'optimizer': 'adam', 'padding': 'same'}\n",
      "Loss: 0.059411779046058655\n",
      "\n",
      "Model Name: KNRMModel\n",
      "Hyper Parameter Sampled: {'kernel_num': 9.0, 'sigma': 0.2}\n",
      "Loss: 2468.192138671875\n",
      "\n",
      "Model Name: KNRMModel\n",
      "Hyper Parameter Sampled: {'kernel_num': 9.0, 'sigma': 0.07}\n",
      "Loss: 339.4784851074219\n",
      "\n",
      "Model Name: KNRMModel\n",
      "Hyper Parameter Sampled: {'kernel_num': 16.0, 'sigma': 0.12}\n",
      "Loss: 3895.7041015625\n",
      "\n",
      "Model Name: ConvKNRMModel\n",
      "Hyper Parameter Sampled: {'kernel_num': 20.0, 'sigma': 0.08}\n",
      "Loss: 326.966064453125\n",
      "\n",
      "Model Name: ConvKNRMModel\n",
      "Hyper Parameter Sampled: {'kernel_num': 7.0, 'sigma': 0.13}\n",
      "Loss: 81.41561889648438\n",
      "\n",
      "Model Name: ConvKNRMModel\n",
      "Hyper Parameter Sampled: {'kernel_num': 7.0, 'sigma': 0.12}\n",
      "Loss: 9628.9853515625\n",
      "\n",
      "Model Name: DUETModel\n",
      "Hyper Parameter Sampled: {'dm_dropout_rate': 0.4, 'lm_dropout_rate': 0.44}\n",
      "Loss: 0.46782195568084717\n",
      "\n",
      "Model Name: DUETModel\n",
      "Hyper Parameter Sampled: {'dm_dropout_rate': 0.7000000000000001, 'lm_dropout_rate': 0.74}\n",
      "Loss: 0.06807225197553635\n",
      "\n",
      "Model Name: DUETModel\n",
      "Hyper Parameter Sampled: {'dm_dropout_rate': 0.3, 'lm_dropout_rate': 0.3}\n",
      "Loss: 0.8648515939712524\n",
      "\n"
     ]
    }
   ],
   "source": [
    "for trial in trials:\n",
    "    print('Model Name:', trial['model_params']['name'])\n",
    "    print(\"Hyper Parameter Sampled:\" , trial['sampled_params'])\n",
    "    print('Loss:', trial['loss'])\n",
    "    print()"
   ]
  },
  {
   "cell_type": "markdown",
   "metadata": {
    "ExecuteTime": {
     "end_time": "2018-11-23T16:16:04.470316Z",
     "start_time": "2018-11-23T16:16:04.468442Z"
    }
   },
   "source": [
    "## Misc"
   ]
  },
  {
   "cell_type": "markdown",
   "metadata": {
    "ExecuteTime": {
     "end_time": "2018-11-23T16:16:20.633032Z",
     "start_time": "2018-11-23T16:16:20.631126Z"
    }
   },
   "source": [
    "### Load Embedding Matrix"
   ]
  },
  {
   "cell_type": "code",
   "execution_count": 19,
   "metadata": {
    "ExecuteTime": {
     "end_time": "2018-12-02T04:09:02.352855Z",
     "start_time": "2018-12-02T04:09:02.206042Z"
    }
   },
   "outputs": [
    {
     "name": "stdout",
     "output_type": "stream",
     "text": [
      "Parameter \"name\" set to ArcIModel.\n",
      "Parameter \"input_shapes\" set to [(30,), (30,)].\n",
      "Parameter \"embedding_trainable\" set to True.\n"
     ]
    }
   ],
   "source": [
    "model = mz.models.ArcIModel()\n",
    "model.params['task'] = ranking_task\n",
    "term_index = preprocessor.context['vocab_unit'].state['term_index']\n",
    "model.params['embedding_input_dim'] = len(term_index) + 1\n",
    "model.guess_and_fill_missing_params()\n",
    "model.build()\n",
    "model.compile()"
   ]
  },
  {
   "cell_type": "code",
   "execution_count": 20,
   "metadata": {
    "ExecuteTime": {
     "end_time": "2018-12-02T04:09:06.466605Z",
     "start_time": "2018-12-02T04:09:02.355404Z"
    }
   },
   "outputs": [],
   "source": [
    "vocab = preprocessor.context['vocab_unit'].state['term_index']\n",
    "embedding_matrix = np.random.uniform(\n",
    "    -0.2, 0.2,\n",
    "    (model.params['embedding_input_dim'], model.params['embedding_output_dim'])\n",
    ")\n",
    "model.load_embedding_matrix(embedding_matrix)"
   ]
  }
 ],
 "metadata": {
  "hide_input": false,
  "kernelspec": {
   "display_name": "matchzoo",
   "language": "python",
   "name": "matchzoo"
  },
  "language_info": {
   "codemirror_mode": {
    "name": "ipython",
    "version": 3
   },
   "file_extension": ".py",
   "mimetype": "text/x-python",
   "name": "python",
   "nbconvert_exporter": "python",
   "pygments_lexer": "ipython3",
   "version": "3.6.3"
  },
  "toc": {
   "nav_menu": {},
   "number_sections": true,
   "sideBar": true,
   "skip_h1_title": false,
   "toc_cell": false,
   "toc_position": {},
   "toc_section_display": "block",
   "toc_window_display": false
  },
  "varInspector": {
   "cols": {
    "lenName": 16,
    "lenType": 16,
    "lenVar": 40
   },
   "kernels_config": {
    "python": {
     "delete_cmd_postfix": "",
     "delete_cmd_prefix": "del ",
     "library": "var_list.py",
     "varRefreshCmd": "print(var_dic_list())"
    },
    "r": {
     "delete_cmd_postfix": ") ",
     "delete_cmd_prefix": "rm(",
     "library": "var_list.r",
     "varRefreshCmd": "cat(var_dic_list()) "
    }
   },
   "types_to_exclude": [
    "module",
    "function",
    "builtin_function_or_method",
    "instance",
    "_Feature"
   ],
   "window_display": false
  }
 },
 "nbformat": 4,
 "nbformat_minor": 2
}
