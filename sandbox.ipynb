{
 "cells": [
  {
   "cell_type": "code",
   "execution_count": 1,
   "metadata": {
    "ExecuteTime": {
     "end_time": "2018-11-29T09:19:52.616209Z",
     "start_time": "2018-11-29T09:19:50.856010Z"
    }
   },
   "outputs": [
    {
     "name": "stderr",
     "output_type": "stream",
     "text": [
      "Using TensorFlow backend.\n"
     ]
    }
   ],
   "source": [
    "import keras\n",
    "import pandas as pd\n",
    "import numpy as np\n",
    "import matchzoo as mz"
   ]
  },
  {
   "cell_type": "markdown",
   "metadata": {},
   "source": [
    "## Read Data "
   ]
  },
  {
   "cell_type": "code",
   "execution_count": 2,
   "metadata": {
    "ExecuteTime": {
     "end_time": "2018-11-29T09:19:52.671821Z",
     "start_time": "2018-11-29T09:19:52.617869Z"
    },
    "collapsed": true
   },
   "outputs": [],
   "source": [
    "def read_data(path, include_label):\n",
    "    def scan_file():\n",
    "        with open(path) as in_file:\n",
    "            next(in_file)  # skip header\n",
    "            for l in in_file:\n",
    "                yield l.strip().split('\\t')\n",
    "    if include_label:\n",
    "        return [(qid, did, q, d, float(label)) for qid, q, _, _, did, d, label in scan_file()]\n",
    "    else:\n",
    "        return [(qid, did, q, d) for qid, q, _, _, did, d, _ in scan_file()]\n",
    "\n",
    "train = read_data('data/WikiQA/WikiQACorpus/WikiQA-train.tsv', include_label=True)\n",
    "predict  = read_data('data/WikiQA/WikiQACorpus/WikiQA-test.tsv', include_label=False)"
   ]
  },
  {
   "cell_type": "markdown",
   "metadata": {},
   "source": [
    "## Pack Data"
   ]
  },
  {
   "cell_type": "code",
   "execution_count": 3,
   "metadata": {
    "ExecuteTime": {
     "end_time": "2018-11-29T09:19:52.697078Z",
     "start_time": "2018-11-29T09:19:52.673394Z"
    },
    "collapsed": true
   },
   "outputs": [],
   "source": [
    "train_pack = mz.pack(train[:1000])\n",
    "predict_pack = mz.pack(predict[:1000])"
   ]
  },
  {
   "cell_type": "markdown",
   "metadata": {},
   "source": [
    "## Preprocess Data"
   ]
  },
  {
   "cell_type": "code",
   "execution_count": 4,
   "metadata": {
    "ExecuteTime": {
     "end_time": "2018-11-29T09:19:53.047416Z",
     "start_time": "2018-11-29T09:19:52.699715Z"
    }
   },
   "outputs": [
    {
     "name": "stderr",
     "output_type": "stream",
     "text": [
      "Processing text_left with chain_transform of TokenizeUnit => LowercaseUnit => PuncRemovalUnit => StopRemovalUnit => NgramLetterUnit: 100%|██████████| 96/96 [00:00<00:00, 3241.06it/s]\n",
      "Processing text_right with chain_transform of TokenizeUnit => LowercaseUnit => PuncRemovalUnit => StopRemovalUnit => NgramLetterUnit: 100%|██████████| 1000/1000 [00:00<00:00, 3947.95it/s]\n",
      "Processing text_left with extend: 100%|██████████| 96/96 [00:00<00:00, 137942.17it/s]\n",
      "Processing text_right with extend: 100%|██████████| 1000/1000 [00:00<00:00, 293082.52it/s]\n",
      "Fitting vocabulary unit.: 100%|██████████| 84935/84935 [00:00<00:00, 2895744.78it/s]\n"
     ]
    },
    {
     "data": {
      "text/plain": [
       "<matchzoo.preprocessors.dssm_preprocessor.DSSMPreprocessor at 0x117e8b780>"
      ]
     },
     "execution_count": 4,
     "metadata": {},
     "output_type": "execute_result"
    }
   ],
   "source": [
    "preprocessor = mz.preprocessors.DSSMPreprocessor()\n",
    "preprocessor.fit(train_pack)"
   ]
  },
  {
   "cell_type": "code",
   "execution_count": 5,
   "metadata": {
    "ExecuteTime": {
     "end_time": "2018-11-29T09:19:53.732987Z",
     "start_time": "2018-11-29T09:19:53.049471Z"
    }
   },
   "outputs": [
    {
     "name": "stderr",
     "output_type": "stream",
     "text": [
      "Processing text_left with chain_transform of TokenizeUnit => LowercaseUnit => PuncRemovalUnit => StopRemovalUnit => NgramLetterUnit => WordHashingUnit: 100%|██████████| 96/96 [00:00<00:00, 4425.20it/s]\n",
      "Processing text_right with chain_transform of TokenizeUnit => LowercaseUnit => PuncRemovalUnit => StopRemovalUnit => NgramLetterUnit => WordHashingUnit: 100%|██████████| 1000/1000 [00:00<00:00, 3074.30it/s]\n",
      "Processing text_left with chain_transform of TokenizeUnit => LowercaseUnit => PuncRemovalUnit => StopRemovalUnit => NgramLetterUnit => WordHashingUnit: 100%|██████████| 108/108 [00:00<00:00, 5678.21it/s]\n",
      "Processing text_right with chain_transform of TokenizeUnit => LowercaseUnit => PuncRemovalUnit => StopRemovalUnit => NgramLetterUnit => WordHashingUnit: 100%|██████████| 992/992 [00:00<00:00, 3256.48it/s]\n"
     ]
    }
   ],
   "source": [
    "train_pack_processed = preprocessor.transform(train_pack)\n",
    "predict_pack_processed = preprocessor.transform(predict_pack)"
   ]
  },
  {
   "cell_type": "markdown",
   "metadata": {
    "ExecuteTime": {
     "end_time": "2018-11-10T02:34:54.973094Z",
     "start_time": "2018-11-10T02:34:54.970086Z"
    }
   },
   "source": [
    "## Generate Data"
   ]
  },
  {
   "cell_type": "code",
   "execution_count": 6,
   "metadata": {
    "ExecuteTime": {
     "end_time": "2018-11-29T09:19:53.737247Z",
     "start_time": "2018-11-29T09:19:53.734479Z"
    },
    "collapsed": true
   },
   "outputs": [],
   "source": [
    "train_generator = mz.DataGenerator(train_pack_processed, batch_size=32)"
   ]
  },
  {
   "cell_type": "markdown",
   "metadata": {
    "ExecuteTime": {
     "end_time": "2018-11-10T02:35:25.875534Z",
     "start_time": "2018-11-10T02:35:25.873244Z"
    }
   },
   "source": [
    "## Model Building"
   ]
  },
  {
   "cell_type": "code",
   "execution_count": 7,
   "metadata": {
    "ExecuteTime": {
     "end_time": "2018-11-29T09:19:53.745672Z",
     "start_time": "2018-11-29T09:19:53.739125Z"
    }
   },
   "outputs": [
    {
     "data": {
      "text/plain": [
       "['mae',\n",
       " mean_average_precision(0),\n",
       " precision@1(0),\n",
       " precision@3(0),\n",
       " discounted_cumulative_gain@1(0),\n",
       " discounted_cumulative_gain@3(0),\n",
       " discounted_cumulative_gain@5(0),\n",
       " normalized_discounted_cumulative_gain@1(0),\n",
       " normalized_discounted_cumulative_gain@3(0),\n",
       " normalized_discounted_cumulative_gain@5(0)]"
      ]
     },
     "execution_count": 7,
     "metadata": {},
     "output_type": "execute_result"
    }
   ],
   "source": [
    "ranking_task = mz.tasks.Ranking()\n",
    "ranking_task.metrics = [\n",
    "    'mae', 'map', 'precision',\n",
    "    mz.metrics.Precision(k=3),\n",
    "    mz.metrics.DiscountedCumulativeGain(k=1),\n",
    "    mz.metrics.DiscountedCumulativeGain(k=3),\n",
    "    mz.metrics.DiscountedCumulativeGain(k=5),\n",
    "    mz.metrics.NormalizedDiscountedCumulativeGain(k=1),\n",
    "    mz.metrics.NormalizedDiscountedCumulativeGain(k=3),\n",
    "    mz.metrics.NormalizedDiscountedCumulativeGain(k=5)\n",
    "]\n",
    "ranking_task.metrics"
   ]
  },
  {
   "cell_type": "code",
   "execution_count": 8,
   "metadata": {
    "ExecuteTime": {
     "end_time": "2018-11-29T09:19:53.889133Z",
     "start_time": "2018-11-29T09:19:53.747544Z"
    },
    "collapsed": true
   },
   "outputs": [],
   "source": [
    "model = mz.models.DSSMModel()\n",
    "model.params['task'] = ranking_task\n",
    "model.params['input_shapes'] = preprocessor.context['input_shapes']\n",
    "model.guess_and_fill_missing_params()\n",
    "model.build()\n",
    "model.compile()"
   ]
  },
  {
   "cell_type": "markdown",
   "metadata": {},
   "source": [
    "## Model Training"
   ]
  },
  {
   "cell_type": "code",
   "execution_count": 9,
   "metadata": {
    "ExecuteTime": {
     "end_time": "2018-11-29T09:19:55.669134Z",
     "start_time": "2018-11-29T09:19:53.890829Z"
    }
   },
   "outputs": [
    {
     "name": "stdout",
     "output_type": "stream",
     "text": [
      "Epoch 1/2\n",
      "1000/1000 [==============================] - 1s 733us/step - loss: 0.1550 - mean_absolute_error: 0.2881\n",
      "Epoch 2/2\n",
      "1000/1000 [==============================] - 1s 567us/step - loss: 0.1047 - mean_absolute_error: 0.2566\n"
     ]
    },
    {
     "data": {
      "text/plain": [
       "<keras.callbacks.History at 0x117e82da0>"
      ]
     },
     "execution_count": 9,
     "metadata": {},
     "output_type": "execute_result"
    }
   ],
   "source": [
    "model.fit(*train_pack_processed.unpack(), epochs=2, batch_size=32)"
   ]
  },
  {
   "cell_type": "code",
   "execution_count": 10,
   "metadata": {
    "ExecuteTime": {
     "end_time": "2018-11-29T09:19:57.112255Z",
     "start_time": "2018-11-29T09:19:55.670840Z"
    }
   },
   "outputs": [
    {
     "name": "stdout",
     "output_type": "stream",
     "text": [
      "Epoch 1/2\n",
      "32/32 [==============================] - 1s 21ms/step - loss: 0.0572 - mean_absolute_error: 0.1850\n",
      "Epoch 2/2\n",
      "32/32 [==============================] - 1s 22ms/step - loss: 0.0274 - mean_absolute_error: 0.1219\n"
     ]
    },
    {
     "data": {
      "text/plain": [
       "<keras.callbacks.History at 0x122210550>"
      ]
     },
     "execution_count": 10,
     "metadata": {},
     "output_type": "execute_result"
    }
   ],
   "source": [
    "model.fit_generator(train_generator, epochs=2, workers=4, use_multiprocessing=True)"
   ]
  },
  {
   "cell_type": "markdown",
   "metadata": {},
   "source": [
    "### Training with Dynamic Data Generator"
   ]
  },
  {
   "cell_type": "code",
   "execution_count": 11,
   "metadata": {
    "ExecuteTime": {
     "end_time": "2018-11-29T09:19:59.162023Z",
     "start_time": "2018-11-29T09:19:57.115829Z"
    }
   },
   "outputs": [
    {
     "name": "stderr",
     "output_type": "stream",
     "text": [
      "Processing text_left with chain_transform of TokenizeUnit => LowercaseUnit => PuncRemovalUnit => StopRemovalUnit => NgramLetterUnit: 100%|██████████| 96/96 [00:00<00:00, 4224.23it/s]\n",
      "Processing text_right with chain_transform of TokenizeUnit => LowercaseUnit => PuncRemovalUnit => StopRemovalUnit => NgramLetterUnit: 100%|██████████| 1000/1000 [00:00<00:00, 3812.05it/s]\n",
      "Processing text_left with extend: 100%|██████████| 96/96 [00:00<00:00, 137989.44it/s]\n",
      "Processing text_right with extend: 100%|██████████| 1000/1000 [00:00<00:00, 338059.48it/s]\n",
      "Fitting vocabulary unit.: 100%|██████████| 84935/84935 [00:00<00:00, 2660636.10it/s]\n",
      "Processing text_left with chain_transform of TokenizeUnit => LowercaseUnit => PuncRemovalUnit => StopRemovalUnit => NgramLetterUnit: 100%|██████████| 96/96 [00:00<00:00, 8476.20it/s]\n",
      "Processing text_right with chain_transform of TokenizeUnit => LowercaseUnit => PuncRemovalUnit => StopRemovalUnit => NgramLetterUnit: 100%|██████████| 1000/1000 [00:00<00:00, 4042.41it/s]\n"
     ]
    },
    {
     "name": "stdout",
     "output_type": "stream",
     "text": [
      "Epoch 1/2\n",
      "32/32 [==============================] - 1s 21ms/step - loss: 0.0145 - mean_absolute_error: 0.0872\n",
      "Epoch 2/2\n",
      "32/32 [==============================] - 1s 22ms/step - loss: 0.0089 - mean_absolute_error: 0.0681\n"
     ]
    },
    {
     "data": {
      "text/plain": [
       "<keras.callbacks.History at 0x117e9c550>"
      ]
     },
     "execution_count": 11,
     "metadata": {},
     "output_type": "execute_result"
    }
   ],
   "source": [
    "pp_no_hashing = mz.preprocessors.DSSMPreprocessor(with_word_hashing=False)\n",
    "train_pack_processed_no_hashing = pp_no_hashing.fit_transform(train_pack)\n",
    "word_hashing_unit = mz.processor_units.WordHashingUnit(pp_no_hashing.context['term_index'])\n",
    "dynamic_data_generator = mz.data_generator.DynamicDataGenerator(word_hashing_unit.transform,\n",
    "                                                                train_pack_processed_no_hashing)\n",
    "model.fit_generator(dynamic_data_generator, epochs=2, workers=4, use_multiprocessing=True)"
   ]
  },
  {
   "cell_type": "markdown",
   "metadata": {
    "ExecuteTime": {
     "end_time": "2018-11-10T03:13:53.981929Z",
     "start_time": "2018-11-10T03:13:53.979557Z"
    }
   },
   "source": [
    "## Model Predicting "
   ]
  },
  {
   "cell_type": "code",
   "execution_count": 12,
   "metadata": {
    "ExecuteTime": {
     "end_time": "2018-11-29T09:19:59.249881Z",
     "start_time": "2018-11-29T09:19:59.164796Z"
    }
   },
   "outputs": [
    {
     "data": {
      "text/plain": [
       "array([[-0.82203054],\n",
       "       [-0.5365823 ],\n",
       "       [-0.64885724],\n",
       "       [-0.706661  ],\n",
       "       [-0.5631074 ],\n",
       "       [-0.7180826 ],\n",
       "       [-0.64169425],\n",
       "       [-0.6807523 ],\n",
       "       [-0.74259025],\n",
       "       [-0.4627969 ]], dtype=float32)"
      ]
     },
     "execution_count": 12,
     "metadata": {},
     "output_type": "execute_result"
    }
   ],
   "source": [
    "model.predict(predict_pack_processed[:10].unpack()[0])"
   ]
  },
  {
   "cell_type": "markdown",
   "metadata": {},
   "source": [
    "## Model Evaluating"
   ]
  },
  {
   "cell_type": "code",
   "execution_count": 13,
   "metadata": {
    "ExecuteTime": {
     "end_time": "2018-11-29T09:19:59.631177Z",
     "start_time": "2018-11-29T09:19:59.251619Z"
    }
   },
   "outputs": [
    {
     "name": "stdout",
     "output_type": "stream",
     "text": [
      "1000/1000 [==============================] - 0s 120us/step\n"
     ]
    },
    {
     "data": {
      "text/plain": [
       "{'loss': 0.008125047847628594,\n",
       " 'mean_absolute_error': 0.06410697138309479,\n",
       " 'mean_average_precision(0)': 0.3333333333333333,\n",
       " 'precision@1(0)': 0.3333333333333333,\n",
       " 'precision@3(0)': 0.13194444444444445,\n",
       " 'discounted_cumulative_gain@1(0)': 0.4808983469629878,\n",
       " 'discounted_cumulative_gain@3(0)': 0.5338530547483661,\n",
       " 'discounted_cumulative_gain@5(0)': 0.5338530547483661,\n",
       " 'normalized_discounted_cumulative_gain@1(0)': 0.3333333333333333,\n",
       " 'normalized_discounted_cumulative_gain@3(0)': 0.3333333333333333,\n",
       " 'normalized_discounted_cumulative_gain@5(0)': 0.3333333333333333}"
      ]
     },
     "execution_count": 13,
     "metadata": {},
     "output_type": "execute_result"
    }
   ],
   "source": [
    "model.evaluate(*train_pack_processed.unpack())"
   ]
  },
  {
   "cell_type": "markdown",
   "metadata": {
    "ExecuteTime": {
     "end_time": "2018-11-23T16:16:04.470316Z",
     "start_time": "2018-11-23T16:16:04.468442Z"
    }
   },
   "source": [
    "## Misc"
   ]
  },
  {
   "cell_type": "markdown",
   "metadata": {
    "ExecuteTime": {
     "end_time": "2018-11-23T16:16:20.633032Z",
     "start_time": "2018-11-23T16:16:20.631126Z"
    }
   },
   "source": [
    "### Load Embedding Matrix"
   ]
  },
  {
   "cell_type": "code",
   "execution_count": 14,
   "metadata": {
    "ExecuteTime": {
     "end_time": "2018-11-29T09:19:59.638400Z",
     "start_time": "2018-11-29T09:19:59.633010Z"
    },
    "collapsed": true
   },
   "outputs": [],
   "source": [
    "import keras.layers\n",
    "from matchzoo import engine\n",
    "\n",
    "class SimpleEmbeddingModel(engine.BaseModel):\n",
    "    @classmethod\n",
    "    def get_default_params(cls) -> engine.ParamTable:\n",
    "        \"\"\":return: model default parameters.\"\"\"\n",
    "        return super().get_default_params(with_embedding=True)\n",
    "\n",
    "    def build(self):\n",
    "        \"\"\"Model structure.\"\"\"\n",
    "        x_in = [keras.layers.Input(name=name, shape=shape)\n",
    "                for name, shape in zip(['text_left', 'text_right'],\n",
    "                                       self._params['input_shapes'])]\n",
    "        x = keras.layers.concatenate(x_in)\n",
    "        x = keras.layers.embeddings.Embedding(*self._params['embedding_shape'], name='embedding')(x)\n",
    "        x = keras.layers.Dense(32, activation='relu')(x)\n",
    "        x_out = self._make_output_layer()(x)\n",
    "        self._backend = keras.models.Model(inputs=x_in, outputs=x_out)"
   ]
  },
  {
   "cell_type": "code",
   "execution_count": 15,
   "metadata": {
    "ExecuteTime": {
     "end_time": "2018-11-29T09:19:59.738572Z",
     "start_time": "2018-11-29T09:19:59.640518Z"
    },
    "collapsed": true
   },
   "outputs": [],
   "source": [
    "model = SimpleEmbeddingModel()\n",
    "model.params['task'] = ranking_task\n",
    "model.params['embedding_shape'] = (len(preprocessor.context['term_index']) + 1, 300)\n",
    "model.guess_and_fill_missing_params()\n",
    "model.build()\n",
    "model.compile()"
   ]
  },
  {
   "cell_type": "code",
   "execution_count": 16,
   "metadata": {
    "ExecuteTime": {
     "end_time": "2018-11-29T09:19:59.875990Z",
     "start_time": "2018-11-29T09:19:59.740601Z"
    },
    "collapsed": true
   },
   "outputs": [],
   "source": [
    "vocab = preprocessor.context['term_index']\n",
    "embedding_matrix = np.random.uniform(-0.2, 0.2, model.params['embedding_shape'])\n",
    "model.load_embedding_matrix(embedding_matrix)"
   ]
  },
  {
   "cell_type": "markdown",
   "metadata": {},
   "source": [
    "## Automation"
   ]
  },
  {
   "cell_type": "code",
   "execution_count": 17,
   "metadata": {
    "ExecuteTime": {
     "end_time": "2018-11-29T09:19:59.884303Z",
     "start_time": "2018-11-29T09:19:59.877724Z"
    },
    "collapsed": true
   },
   "outputs": [],
   "source": [
    "train_pack.shuffle(inplace=True)"
   ]
  },
  {
   "cell_type": "code",
   "execution_count": 18,
   "metadata": {
    "ExecuteTime": {
     "end_time": "2018-11-29T09:19:59.896391Z",
     "start_time": "2018-11-29T09:19:59.887058Z"
    },
    "collapsed": true
   },
   "outputs": [],
   "source": [
    "divider = int(len(train_pack) * 0.9)\n",
    "train_pack_divided = train_pack[:divider]\n",
    "test_pack_divided = train_pack[divider:]"
   ]
  },
  {
   "cell_type": "code",
   "execution_count": 19,
   "metadata": {
    "ExecuteTime": {
     "end_time": "2018-11-29T09:19:59.903558Z",
     "start_time": "2018-11-29T09:19:59.898837Z"
    },
    "collapsed": true
   },
   "outputs": [],
   "source": [
    "dssm_model_a = mz.models.DSSMModel()\n",
    "dssm_model_a.params['name'] = 'Model A'\n",
    "dssm_model_b = mz.models.DSSMModel()\n",
    "dssm_model_b.params['name'] = 'Model B'"
   ]
  },
  {
   "cell_type": "code",
   "execution_count": 20,
   "metadata": {
    "ExecuteTime": {
     "end_time": "2018-11-29T09:19:59.910222Z",
     "start_time": "2018-11-29T09:19:59.906040Z"
    },
    "collapsed": true
   },
   "outputs": [],
   "source": [
    "director = mz.Director()\n",
    "director.params['models'] = [\n",
    "    dssm_model_a, dssm_model_b\n",
    "]\n",
    "director.params['evals_per_model'] = 5\n",
    "director.params['train_pack'] = train_pack_divided\n",
    "director.params['test_pack'] = test_pack_divided\n",
    "director.params['task'] = ranking_task"
   ]
  },
  {
   "cell_type": "code",
   "execution_count": 21,
   "metadata": {
    "ExecuteTime": {
     "end_time": "2018-11-29T09:20:18.075540Z",
     "start_time": "2018-11-29T09:19:59.912252Z"
    },
    "scrolled": false
   },
   "outputs": [
    {
     "name": "stderr",
     "output_type": "stream",
     "text": [
      "Processing text_left with chain_transform of TokenizeUnit => LowercaseUnit => PuncRemovalUnit => StopRemovalUnit => NgramLetterUnit: 100%|██████████| 84/84 [00:00<00:00, 3651.57it/s]\n",
      "Processing text_right with chain_transform of TokenizeUnit => LowercaseUnit => PuncRemovalUnit => StopRemovalUnit => NgramLetterUnit: 100%|██████████| 900/900 [00:00<00:00, 3566.26it/s]\n",
      "Processing text_left with extend: 100%|██████████| 84/84 [00:00<00:00, 70889.65it/s]\n",
      "Processing text_right with extend: 100%|██████████| 900/900 [00:00<00:00, 353386.41it/s]\n",
      "Fitting vocabulary unit.: 100%|██████████| 75505/75505 [00:00<00:00, 2654709.57it/s]\n",
      "Processing text_left with chain_transform of TokenizeUnit => LowercaseUnit => PuncRemovalUnit => StopRemovalUnit => NgramLetterUnit => WordHashingUnit: 100%|██████████| 84/84 [00:00<00:00, 5305.09it/s]\n",
      "Processing text_right with chain_transform of TokenizeUnit => LowercaseUnit => PuncRemovalUnit => StopRemovalUnit => NgramLetterUnit => WordHashingUnit: 100%|██████████| 900/900 [00:00<00:00, 3061.28it/s]\n",
      "Processing text_left with chain_transform of TokenizeUnit => LowercaseUnit => PuncRemovalUnit => StopRemovalUnit => NgramLetterUnit => WordHashingUnit: 100%|██████████| 13/13 [00:00<00:00, 4099.70it/s]\n",
      "Processing text_right with chain_transform of TokenizeUnit => LowercaseUnit => PuncRemovalUnit => StopRemovalUnit => NgramLetterUnit => WordHashingUnit: 100%|██████████| 100/100 [00:00<00:00, 2791.20it/s]\n",
      "tpe_transform took 0.000436 seconds\n",
      "TPE using 0 trials\n"
     ]
    },
    {
     "name": "stdout",
     "output_type": "stream",
     "text": [
      "Epoch 1/1\n",
      "900/900 [==============================] - 1s 757us/step - loss: 0.1621 - mean_absolute_error: 0.2897\n",
      "100/100 [==============================] - 0s 678us/step\n"
     ]
    },
    {
     "name": "stderr",
     "output_type": "stream",
     "text": [
      "tpe_transform took 0.000451 seconds\n",
      "TPE using 1/1 trials with best loss 0.419784\n"
     ]
    },
    {
     "name": "stdout",
     "output_type": "stream",
     "text": [
      "Epoch 1/1\n",
      "900/900 [==============================] - 1s 818us/step - loss: 0.0429 - mean_absolute_error: 0.0877\n",
      "100/100 [==============================] - 0s 853us/step\n"
     ]
    },
    {
     "name": "stderr",
     "output_type": "stream",
     "text": [
      "tpe_transform took 0.000815 seconds\n",
      "TPE using 2/2 trials with best loss 0.076754\n"
     ]
    },
    {
     "name": "stdout",
     "output_type": "stream",
     "text": [
      "Epoch 1/1\n",
      "900/900 [==============================] - 1s 691us/step - loss: 0.1318 - mean_absolute_error: 0.2530\n",
      "100/100 [==============================] - 0s 948us/step\n"
     ]
    },
    {
     "name": "stderr",
     "output_type": "stream",
     "text": [
      "tpe_transform took 0.000540 seconds\n",
      "TPE using 3/3 trials with best loss 0.076754\n"
     ]
    },
    {
     "name": "stdout",
     "output_type": "stream",
     "text": [
      "Epoch 1/1\n",
      "900/900 [==============================] - 1s 678us/step - loss: 0.1779 - mean_absolute_error: 0.3326\n",
      "100/100 [==============================] - 0s 1ms/step\n"
     ]
    },
    {
     "name": "stderr",
     "output_type": "stream",
     "text": [
      "tpe_transform took 0.000411 seconds\n",
      "TPE using 4/4 trials with best loss 0.076754\n"
     ]
    },
    {
     "name": "stdout",
     "output_type": "stream",
     "text": [
      "Epoch 1/1\n",
      "900/900 [==============================] - 1s 768us/step - loss: 0.0335 - mean_absolute_error: 0.0690\n",
      "100/100 [==============================] - 0s 1ms/step\n"
     ]
    },
    {
     "name": "stderr",
     "output_type": "stream",
     "text": [
      "Processing text_left with chain_transform of TokenizeUnit => LowercaseUnit => PuncRemovalUnit => StopRemovalUnit => NgramLetterUnit: 100%|██████████| 84/84 [00:00<00:00, 7914.85it/s]\n",
      "Processing text_right with chain_transform of TokenizeUnit => LowercaseUnit => PuncRemovalUnit => StopRemovalUnit => NgramLetterUnit: 100%|██████████| 900/900 [00:00<00:00, 2603.80it/s]\n",
      "Processing text_left with extend: 100%|██████████| 84/84 [00:00<00:00, 118347.85it/s]\n",
      "Processing text_right with extend: 100%|██████████| 900/900 [00:00<00:00, 244819.61it/s]\n",
      "Fitting vocabulary unit.: 100%|██████████| 75505/75505 [00:00<00:00, 2221114.33it/s]\n",
      "Processing text_left with chain_transform of TokenizeUnit => LowercaseUnit => PuncRemovalUnit => StopRemovalUnit => NgramLetterUnit => WordHashingUnit: 100%|██████████| 84/84 [00:00<00:00, 5090.32it/s]\n",
      "Processing text_right with chain_transform of TokenizeUnit => LowercaseUnit => PuncRemovalUnit => StopRemovalUnit => NgramLetterUnit => WordHashingUnit: 100%|██████████| 900/900 [00:00<00:00, 3073.60it/s]\n",
      "Processing text_left with chain_transform of TokenizeUnit => LowercaseUnit => PuncRemovalUnit => StopRemovalUnit => NgramLetterUnit => WordHashingUnit: 100%|██████████| 13/13 [00:00<00:00, 4965.93it/s]\n",
      "Processing text_right with chain_transform of TokenizeUnit => LowercaseUnit => PuncRemovalUnit => StopRemovalUnit => NgramLetterUnit => WordHashingUnit: 100%|██████████| 100/100 [00:00<00:00, 2866.39it/s]\n",
      "tpe_transform took 0.000398 seconds\n",
      "TPE using 0 trials\n"
     ]
    },
    {
     "name": "stdout",
     "output_type": "stream",
     "text": [
      "Epoch 1/1\n",
      "900/900 [==============================] - 1s 888us/step - loss: 0.0401 - mean_absolute_error: 0.0718\n",
      "100/100 [==============================] - 0s 1ms/step\n"
     ]
    },
    {
     "name": "stderr",
     "output_type": "stream",
     "text": [
      "tpe_transform took 0.000458 seconds\n",
      "TPE using 1/1 trials with best loss 0.068965\n"
     ]
    },
    {
     "name": "stdout",
     "output_type": "stream",
     "text": [
      "Epoch 1/1\n",
      "900/900 [==============================] - 1s 965us/step - loss: 0.1466 - mean_absolute_error: 0.2759\n",
      "100/100 [==============================] - 0s 2ms/step\n"
     ]
    },
    {
     "name": "stderr",
     "output_type": "stream",
     "text": [
      "tpe_transform took 0.000487 seconds\n",
      "TPE using 2/2 trials with best loss 0.068965\n"
     ]
    },
    {
     "name": "stdout",
     "output_type": "stream",
     "text": [
      "Epoch 1/1\n",
      "900/900 [==============================] - 1s 1ms/step - loss: 0.0558 - mean_absolute_error: 0.1650\n",
      "100/100 [==============================] - 0s 2ms/step\n"
     ]
    },
    {
     "name": "stderr",
     "output_type": "stream",
     "text": [
      "tpe_transform took 0.000477 seconds\n",
      "TPE using 3/3 trials with best loss 0.068965\n"
     ]
    },
    {
     "name": "stdout",
     "output_type": "stream",
     "text": [
      "Epoch 1/1\n",
      "900/900 [==============================] - 1s 1ms/step - loss: 0.0899 - mean_absolute_error: 0.2257\n",
      "100/100 [==============================] - 0s 2ms/step\n"
     ]
    },
    {
     "name": "stderr",
     "output_type": "stream",
     "text": [
      "tpe_transform took 0.000478 seconds\n",
      "TPE using 4/4 trials with best loss 0.068965\n"
     ]
    },
    {
     "name": "stdout",
     "output_type": "stream",
     "text": [
      "Epoch 1/1\n",
      "900/900 [==============================] - 1s 972us/step - loss: 0.1751 - mean_absolute_error: 0.3333\n",
      "100/100 [==============================] - 0s 2ms/step\n"
     ]
    }
   ],
   "source": [
    "all_trials = director.action()"
   ]
  },
  {
   "cell_type": "code",
   "execution_count": 22,
   "metadata": {
    "ExecuteTime": {
     "end_time": "2018-11-29T09:20:18.082012Z",
     "start_time": "2018-11-29T09:20:18.077334Z"
    }
   },
   "outputs": [
    {
     "name": "stdout",
     "output_type": "stream",
     "text": [
      "Model Name: Model A\n",
      "Hyper Parameter Sampled: {'dim_hidden': 484.0}\n",
      "Loss:  0.41978442668914795\n",
      "\n",
      "Model Name: Model A\n",
      "Hyper Parameter Sampled: {'dim_hidden': 467.0}\n",
      "Loss:  0.07675425708293915\n",
      "\n",
      "Model Name: Model A\n",
      "Hyper Parameter Sampled: {'dim_hidden': 317.0}\n",
      "Loss:  0.2551075220108032\n",
      "\n",
      "Model Name: Model A\n",
      "Hyper Parameter Sampled: {'dim_hidden': 136.0}\n",
      "Loss:  0.17611287534236908\n",
      "\n",
      "Model Name: Model A\n",
      "Hyper Parameter Sampled: {'dim_hidden': 319.0}\n",
      "Loss:  0.056967247277498245\n",
      "\n",
      "Model Name: Model B\n",
      "Hyper Parameter Sampled: {'dim_hidden': 398.0}\n",
      "Loss:  0.06896458566188812\n",
      "\n",
      "Model Name: Model B\n",
      "Hyper Parameter Sampled: {'dim_hidden': 428.0}\n",
      "Loss:  0.4359401762485504\n",
      "\n",
      "Model Name: Model B\n",
      "Hyper Parameter Sampled: {'dim_hidden': 428.0}\n",
      "Loss:  0.07799652218818665\n",
      "\n",
      "Model Name: Model B\n",
      "Hyper Parameter Sampled: {'dim_hidden': 487.0}\n",
      "Loss:  0.2389742136001587\n",
      "\n",
      "Model Name: Model B\n",
      "Hyper Parameter Sampled: {'dim_hidden': 96.0}\n",
      "Loss:  0.211103618144989\n",
      "\n"
     ]
    }
   ],
   "source": [
    "for model_trials in all_trials:\n",
    "    for trial in model_trials:\n",
    "        print('Model Name:', trial['model_params']['name'])\n",
    "        print(\"Hyper Parameter Sampled:\" , trial['sampled_params'])\n",
    "        print('Loss: ', trial['loss'])\n",
    "        print()"
   ]
  }
 ],
 "metadata": {
  "hide_input": false,
  "kernelspec": {
   "display_name": "matchzoo",
   "language": "python",
   "name": "matchzoo"
  },
  "language_info": {
   "codemirror_mode": {
    "name": "ipython",
    "version": 3
   },
   "file_extension": ".py",
   "mimetype": "text/x-python",
   "name": "python",
   "nbconvert_exporter": "python",
   "pygments_lexer": "ipython3",
   "version": "3.6.3"
  },
  "toc": {
   "nav_menu": {},
   "number_sections": true,
   "sideBar": true,
   "skip_h1_title": false,
   "toc_cell": false,
   "toc_position": {},
   "toc_section_display": "block",
   "toc_window_display": false
  },
  "varInspector": {
   "cols": {
    "lenName": 16,
    "lenType": 16,
    "lenVar": 40
   },
   "kernels_config": {
    "python": {
     "delete_cmd_postfix": "",
     "delete_cmd_prefix": "del ",
     "library": "var_list.py",
     "varRefreshCmd": "print(var_dic_list())"
    },
    "r": {
     "delete_cmd_postfix": ") ",
     "delete_cmd_prefix": "rm(",
     "library": "var_list.r",
     "varRefreshCmd": "cat(var_dic_list()) "
    }
   },
   "types_to_exclude": [
    "module",
    "function",
    "builtin_function_or_method",
    "instance",
    "_Feature"
   ],
   "window_display": false
  }
 },
 "nbformat": 4,
 "nbformat_minor": 2
}
