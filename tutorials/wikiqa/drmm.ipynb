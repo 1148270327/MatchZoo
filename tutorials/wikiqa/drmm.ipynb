{
 "cells": [
  {
   "cell_type": "code",
   "execution_count": 1,
   "metadata": {
    "scrolled": true
   },
   "outputs": [
    {
     "name": "stderr",
     "output_type": "stream",
     "text": [
      "Using TensorFlow backend.\n"
     ]
    }
   ],
   "source": [
    "import keras\n",
    "import pandas as pd\n",
    "import numpy as np\n",
    "import matchzoo as mz"
   ]
  },
  {
   "cell_type": "code",
   "execution_count": 2,
   "metadata": {},
   "outputs": [],
   "source": [
    "train_pack = mz.datasets.wiki_qa.load_data('train', task='ranking')\n",
    "valid_pack = mz.datasets.wiki_qa.load_data('dev', task='ranking', filter=True)\n",
    "predict_pack = mz.datasets.wiki_qa.load_data('test', task='ranking', filter=True)"
   ]
  },
  {
   "cell_type": "code",
   "execution_count": 3,
   "metadata": {
    "scrolled": true
   },
   "outputs": [
    {
     "name": "stderr",
     "output_type": "stream",
     "text": [
      "Processing text_left with chain_transform of TokenizeUnit => LowercaseUnit => PuncRemovalUnit: 100%|██████████| 2118/2118 [00:00<00:00, 4567.03it/s]\n",
      "Processing text_right with chain_transform of TokenizeUnit => LowercaseUnit => PuncRemovalUnit: 100%|██████████| 18841/18841 [00:06<00:00, 2952.25it/s]\n",
      "Processing text_right with append: 100%|██████████| 18841/18841 [00:00<00:00, 584654.92it/s]\n",
      "Building FrequencyFilterUnit from a datapack.: 100%|██████████| 18841/18841 [00:00<00:00, 81828.24it/s]\n",
      "Processing text_right with transform: 100%|██████████| 18841/18841 [00:00<00:00, 98158.78it/s]\n",
      "Processing text_left with extend: 100%|██████████| 2118/2118 [00:00<00:00, 477532.43it/s]\n",
      "Processing text_right with extend: 100%|██████████| 18841/18841 [00:00<00:00, 499370.50it/s]\n",
      "Building VocabularyUnit from a datapack.: 100%|██████████| 404432/404432 [00:00<00:00, 1977559.23it/s]\n",
      "Processing text_left with chain_transform of TokenizeUnit => LowercaseUnit => PuncRemovalUnit: 100%|██████████| 2118/2118 [00:00<00:00, 5080.39it/s]\n",
      "Processing text_right with chain_transform of TokenizeUnit => LowercaseUnit => PuncRemovalUnit: 100%|██████████| 18841/18841 [00:06<00:00, 2903.71it/s]\n",
      "Processing text_right with transform: 100%|██████████| 18841/18841 [00:00<00:00, 83489.31it/s]\n",
      "Processing text_left with transform: 100%|██████████| 2118/2118 [00:00<00:00, 135665.86it/s]\n",
      "Processing text_right with transform: 100%|██████████| 18841/18841 [00:00<00:00, 86391.20it/s]\n",
      "Processing length_left with len: 100%|██████████| 2118/2118 [00:00<00:00, 457819.82it/s]\n",
      "Processing length_right with len: 100%|██████████| 18841/18841 [00:00<00:00, 537547.66it/s]\n",
      "Processing text_left with transform: 100%|██████████| 2118/2118 [00:00<00:00, 53001.86it/s]\n",
      "Processing text_right with transform: 100%|██████████| 18841/18841 [00:00<00:00, 44426.00it/s]\n"
     ]
    }
   ],
   "source": [
    "preprocessor = mz.preprocessors.BasicPreprocessor(fixed_length_left=10, fixed_length_right=100, remove_stop_words=False)\n",
    "train_pack_processed = preprocessor.fit_transform(train_pack)"
   ]
  },
  {
   "cell_type": "code",
   "execution_count": 5,
   "metadata": {
    "scrolled": true
   },
   "outputs": [
    {
     "name": "stderr",
     "output_type": "stream",
     "text": [
      "Processing text_left with chain_transform of TokenizeUnit => LowercaseUnit => PuncRemovalUnit: 100%|██████████| 122/122 [00:00<00:00, 2851.60it/s]\n",
      "Processing text_right with chain_transform of TokenizeUnit => LowercaseUnit => PuncRemovalUnit: 100%|██████████| 1115/1115 [00:00<00:00, 2139.99it/s]\n",
      "Processing text_right with transform: 100%|██████████| 1115/1115 [00:00<00:00, 84323.20it/s]\n",
      "Processing text_left with transform: 100%|██████████| 122/122 [00:00<00:00, 82241.25it/s]\n",
      "Processing text_right with transform: 100%|██████████| 1115/1115 [00:00<00:00, 90235.76it/s]\n",
      "Processing length_left with len: 100%|██████████| 122/122 [00:00<00:00, 151257.79it/s]\n",
      "Processing length_right with len: 100%|██████████| 1115/1115 [00:00<00:00, 428500.00it/s]\n",
      "Processing text_left with transform: 100%|██████████| 122/122 [00:00<00:00, 48260.41it/s]\n",
      "Processing text_right with transform: 100%|██████████| 1115/1115 [00:00<00:00, 44791.63it/s]\n",
      "Processing text_left with chain_transform of TokenizeUnit => LowercaseUnit => PuncRemovalUnit: 100%|██████████| 237/237 [00:00<00:00, 5058.29it/s]\n",
      "Processing text_right with chain_transform of TokenizeUnit => LowercaseUnit => PuncRemovalUnit: 100%|██████████| 2300/2300 [00:00<00:00, 2941.21it/s]\n",
      "Processing text_right with transform: 100%|██████████| 2300/2300 [00:00<00:00, 92024.22it/s]\n",
      "Processing text_left with transform: 100%|██████████| 237/237 [00:00<00:00, 107059.78it/s]\n",
      "Processing text_right with transform: 100%|██████████| 2300/2300 [00:00<00:00, 89628.54it/s]\n",
      "Processing length_left with len: 100%|██████████| 237/237 [00:00<00:00, 256727.80it/s]\n",
      "Processing length_right with len: 100%|██████████| 2300/2300 [00:00<00:00, 471362.22it/s]\n",
      "Processing text_left with transform: 100%|██████████| 237/237 [00:00<00:00, 55221.93it/s]\n",
      "Processing text_right with transform: 100%|██████████| 2300/2300 [00:00<00:00, 45273.81it/s]\n"
     ]
    }
   ],
   "source": [
    "valid_pack_processed = preprocessor.transform(valid_pack)\n",
    "predict_pack_processed = preprocessor.transform(predict_pack)"
   ]
  },
  {
   "cell_type": "code",
   "execution_count": 7,
   "metadata": {},
   "outputs": [],
   "source": [
    "ranking_task = mz.tasks.Ranking(loss=mz.losses.RankCrossEntropyLoss(num_neg=4))\n",
    "ranking_task.metrics = [\n",
    "    mz.metrics.NormalizedDiscountedCumulativeGain(k=3),\n",
    "    mz.metrics.NormalizedDiscountedCumulativeGain(k=5),\n",
    "    mz.metrics.MeanAveragePrecision()\n",
    "]"
   ]
  },
  {
   "cell_type": "code",
   "execution_count": 8,
   "metadata": {
    "scrolled": false
   },
   "outputs": [
    {
     "name": "stdout",
     "output_type": "stream",
     "text": [
      "__________________________________________________________________________________________________\n",
      "Layer (type)                    Output Shape         Param #     Connected to                     \n",
      "==================================================================================================\n",
      "text_left (InputLayer)          (None, 10)           0                                            \n",
      "__________________________________________________________________________________________________\n",
      "embedding (Embedding)           (None, 10, 300)      5002200     text_left[0][0]                  \n",
      "__________________________________________________________________________________________________\n",
      "dense_1 (Dense)                 (None, 10, 1)        300         embedding[0][0]                  \n",
      "__________________________________________________________________________________________________\n",
      "match_histogram (InputLayer)    (None, 10, 30)       0                                            \n",
      "__________________________________________________________________________________________________\n",
      "attention_mask (Lambda)         (None, 10, 1)        0           dense_1[0][0]                    \n",
      "__________________________________________________________________________________________________\n",
      "dense_2 (Dense)                 (None, 10, 10)       310         match_histogram[0][0]            \n",
      "__________________________________________________________________________________________________\n",
      "attention_probs (Lambda)        (None, 10, 1)        0           attention_mask[0][0]             \n",
      "__________________________________________________________________________________________________\n",
      "dense_3 (Dense)                 (None, 10, 1)        11          dense_2[0][0]                    \n",
      "__________________________________________________________________________________________________\n",
      "dot_1 (Dot)                     (None, 1, 1)         0           attention_probs[0][0]            \n",
      "                                                                 dense_3[0][0]                    \n",
      "__________________________________________________________________________________________________\n",
      "flatten_1 (Flatten)             (None, 1)            0           dot_1[0][0]                      \n",
      "__________________________________________________________________________________________________\n",
      "dense_4 (Dense)                 (None, 1)            2           flatten_1[0][0]                  \n",
      "==================================================================================================\n",
      "Total params: 5,002,823\n",
      "Trainable params: 5,002,823\n",
      "Non-trainable params: 0\n",
      "__________________________________________________________________________________________________\n"
     ]
    }
   ],
   "source": [
    "bin_size = 30\n",
    "model = mz.models.DRMM()\n",
    "model.params['input_shapes'] = [[10,], [10, bin_size,]]\n",
    "model.params['task'] = ranking_task\n",
    "model.params['mask_value'] = 0\n",
    "model.params['embedding_input_dim'] = preprocessor.context['vocab_size']\n",
    "model.params['embedding_output_dim'] = 300\n",
    "model.params['mlp_num_layers'] = 1\n",
    "model.params['mlp_num_units'] = 10\n",
    "model.params['mlp_num_fan_out'] = 1\n",
    "model.params['mlp_activation_func'] = 'tanh'\n",
    "model.params['optimizer'] = 'adadelta'\n",
    "model.guess_and_fill_missing_params()\n",
    "model.build()\n",
    "model.compile()\n",
    "model.backend.summary()"
   ]
  },
  {
   "cell_type": "code",
   "execution_count": 10,
   "metadata": {},
   "outputs": [],
   "source": [
    "glove_embedding = mz.datasets.embeddings.load_glove_embedding(dimension=300)\n",
    "embedding_matrix = glove_embedding.build_matrix(preprocessor.context['vocab_unit'].state['term_index'])"
   ]
  },
  {
   "cell_type": "code",
   "execution_count": 11,
   "metadata": {},
   "outputs": [],
   "source": [
    "# normalize the word embedding for fast histogram generating.\n",
    "l2_norm = np.sqrt((embedding_matrix*embedding_matrix).sum(axis=1))\n",
    "embedding_matrix = embedding_matrix / l2_norm[:, np.newaxis]"
   ]
  },
  {
   "cell_type": "code",
   "execution_count": 12,
   "metadata": {},
   "outputs": [],
   "source": [
    "model.load_embedding_matrix(embedding_matrix)"
   ]
  },
  {
   "cell_type": "code",
   "execution_count": 13,
   "metadata": {},
   "outputs": [],
   "source": [
    "pred_generator = mz.HistogramDataGenerator(data_pack=predict_pack_processed,\n",
    "                                           embedding_matrix=embedding_matrix,\n",
    "                                           bin_size=bin_size, \n",
    "                                           hist_mode='LCH')\n",
    "pred_x, pred_y = pred_generator[:]\n",
    "evaluate = mz.callbacks.EvaluateAllMetrics(model, \n",
    "                                           x=pred_x, \n",
    "                                           y=pred_y, \n",
    "                                           once_every=1, \n",
    "                                           batch_size=len(pred_y),\n",
    "                                           model_save_path='./drmm_pretrained_model/'\n",
    "                                          )"
   ]
  },
  {
   "cell_type": "code",
   "execution_count": 14,
   "metadata": {},
   "outputs": [
    {
     "data": {
      "text/plain": [
       "102"
      ]
     },
     "execution_count": 14,
     "metadata": {},
     "output_type": "execute_result"
    }
   ],
   "source": [
    "train_generator = mz.HistogramPairDataGenerator(train_pack_processed, embedding_matrix, bin_size, 'LCH',\n",
    "                                                num_dup=2, num_neg=4, batch_size=20)\n",
    "len(train_generator)"
   ]
  },
  {
   "cell_type": "code",
   "execution_count": 15,
   "metadata": {
    "scrolled": true
   },
   "outputs": [
    {
     "name": "stdout",
     "output_type": "stream",
     "text": [
      "Epoch 1/30\n",
      "102/102 [==============================] - 9s 86ms/step - loss: 1.5377\n",
      "Validation: normalized_discounted_cumulative_gain@3(0.0): 0.4756536327915165 - normalized_discounted_cumulative_gain@5(0.0): 0.552560960894608 - mean_average_precision(0.0): 0.5020347452745515\n",
      "Epoch 2/30\n",
      "102/102 [==============================] - 7s 64ms/step - loss: 1.4151\n",
      "Validation: normalized_discounted_cumulative_gain@3(0.0): 0.5753281546804131 - normalized_discounted_cumulative_gain@5(0.0): 0.6353491840238532 - mean_average_precision(0.0): 0.5966143093767571\n",
      "Epoch 3/30\n",
      "102/102 [==============================] - 8s 74ms/step - loss: 1.2734\n",
      "Epoch 3/30\n",
      "Validation: normalized_discounted_cumulative_gain@3(0.0): 0.5753281546804131 - normalized_discounted_cumulative_gain@5(0.0): 0.6353491840238532 - mean_average_precision(0.0): 0.5966143093767571\n",
      "Validation: normalized_discounted_cumulative_gain@3(0.0): 0.5969699060288235 - normalized_discounted_cumulative_gain@5(0.0): 0.658063367513948 - mean_average_precision(0.0): 0.6101566415218423\n",
      "Epoch 4/30\n",
      "102/102 [==============================] - 7s 70ms/step - loss: 1.1698\n",
      "Epoch 4/30\n",
      "Validation: normalized_discounted_cumulative_gain@3(0.0): 0.6048948322310855 - normalized_discounted_cumulative_gain@5(0.0): 0.6612076908811109 - mean_average_precision(0.0): 0.6196349567545566\n",
      "Epoch 5/30\n",
      "102/102 [==============================] - 8s 74ms/step - loss: 1.0713\n",
      "Validation: normalized_discounted_cumulative_gain@3(0.0): 0.6153535508359307 - normalized_discounted_cumulative_gain@5(0.0): 0.6654824691691356 - mean_average_precision(0.0): 0.6254731657149488\n",
      "Epoch 6/30\n",
      "102/102 [==============================] - 7s 71ms/step - loss: 0.9806\n",
      "Validation: normalized_discounted_cumulative_gain@3(0.0): 0.6132482938827295 - normalized_discounted_cumulative_gain@5(0.0): 0.6709930817436079 - mean_average_precision(0.0): 0.6246549117391581\n",
      "Epoch 7/30\n",
      "102/102 [==============================] - 7s 72ms/step - loss: 0.9055\n",
      "Validation: normalized_discounted_cumulative_gain@3(0.0): 0.6132482938827295 - normalized_discounted_cumulative_gain@5(0.0): 0.6709930817436079 - mean_average_precision(0.0): 0.6246549117391581\n",
      "\n",
      "Validation: normalized_discounted_cumulative_gain@3(0.0): 0.6216588342208162 - normalized_discounted_cumulative_gain@5(0.0): 0.6738899753675449 - mean_average_precision(0.0): 0.6289205497284561\n",
      "Epoch 8/30\n",
      "102/102 [==============================] - 7s 73ms/step - loss: 0.8455\n",
      "Epoch 8/30\n",
      "Validation: normalized_discounted_cumulative_gain@3(0.0): 0.6216588342208162 - normalized_discounted_cumulative_gain@5(0.0): 0.6738899753675449 - mean_average_precision(0.0): 0.6289205497284561\n",
      "Validation: normalized_discounted_cumulative_gain@3(0.0): 0.6151353877776566 - normalized_discounted_cumulative_gain@5(0.0): 0.6737268419981108 - mean_average_precision(0.0): 0.6251157159676125\n",
      "Epoch 9/30\n",
      "102/102 [==============================] - 7s 73ms/step - loss: 0.7990\n",
      "Validation: normalized_discounted_cumulative_gain@3(0.0): 0.6151353877776566 - normalized_discounted_cumulative_gain@5(0.0): 0.6737268419981108 - mean_average_precision(0.0): 0.6251157159676125\n",
      "Epoch 9/30\n",
      "Validation: normalized_discounted_cumulative_gain@3(0.0): 0.6243640360068525 - normalized_discounted_cumulative_gain@5(0.0): 0.6760905613053279 - mean_average_precision(0.0): 0.6321089614518639\n",
      "Epoch 10/30\n",
      "102/102 [==============================] - 7s 71ms/step - loss: 0.7639\n",
      "\n",
      "Validation: normalized_discounted_cumulative_gain@3(0.0): 0.6308862646622582 - normalized_discounted_cumulative_gain@5(0.0): 0.6818563514250875 - mean_average_precision(0.0): 0.6416259700365231\n",
      "Epoch 11/30\n",
      "102/102 [==============================] - 8s 75ms/step - loss: 0.7345\n",
      "Validation: normalized_discounted_cumulative_gain@3(0.0): 0.6308862646622582 - normalized_discounted_cumulative_gain@5(0.0): 0.6818563514250875 - mean_average_precision(0.0): 0.6416259700365231\n",
      "Epoch 11/30\n",
      "Validation: normalized_discounted_cumulative_gain@3(0.0): 0.6208343761588931 - normalized_discounted_cumulative_gain@5(0.0): 0.6741260697591712 - mean_average_precision(0.0): 0.6308069222852342\n",
      "Epoch 12/30\n",
      "102/102 [==============================] - 7s 73ms/step - loss: 0.7104\n",
      "Epoch 12/30\n",
      "Validation: normalized_discounted_cumulative_gain@3(0.0): 0.6208343761588931 - normalized_discounted_cumulative_gain@5(0.0): 0.6741260697591712 - mean_average_precision(0.0): 0.6308069222852342\n",
      "Validation: normalized_discounted_cumulative_gain@3(0.0): 0.6210479290659222 - normalized_discounted_cumulative_gain@5(0.0): 0.6678389359359096 - mean_average_precision(0.0): 0.6255208326843399\n",
      "Epoch 13/30\n",
      "102/102 [==============================] - 7s 70ms/step - loss: 0.6935\n",
      "Validation: normalized_discounted_cumulative_gain@3(0.0): 0.6210479290659222 - normalized_discounted_cumulative_gain@5(0.0): 0.6678389359359096 - mean_average_precision(0.0): 0.6255208326843399\n",
      "\n",
      "Validation: normalized_discounted_cumulative_gain@3(0.0): 0.6305166081643903 - normalized_discounted_cumulative_gain@5(0.0): 0.6716297010662211 - mean_average_precision(0.0): 0.6303510423291679\n",
      "Epoch 14/30\n",
      "102/102 [==============================] - 8s 76ms/step - loss: 0.6772: 0s - loss: 0.677\n",
      "Epoch 14/30\n",
      "Validation: normalized_discounted_cumulative_gain@3(0.0): 0.6322239303924095 - normalized_discounted_cumulative_gain@5(0.0): 0.6741895993692827 - mean_average_precision(0.0): 0.633233638824175\n",
      "Epoch 15/30\n",
      "102/102 [==============================] - 7s 73ms/step - loss: 0.6650\n",
      "Validation: normalized_discounted_cumulative_gain@3(0.0): 0.6322239303924095 - normalized_discounted_cumulative_gain@5(0.0): 0.6741895993692827 - mean_average_precision(0.0): 0.633233638824175\n",
      "Validation: normalized_discounted_cumulative_gain@3(0.0): 0.636577412991855 - normalized_discounted_cumulative_gain@5(0.0): 0.6770009266910136 - mean_average_precision(0.0): 0.6377604800805156\n",
      "Epoch 16/30\n",
      "102/102 [==============================] - 7s 70ms/step - loss: 0.6552\n",
      "Validation: normalized_discounted_cumulative_gain@3(0.0): 0.6372550371499028 - normalized_discounted_cumulative_gain@5(0.0): 0.6765377942645403 - mean_average_precision(0.0): 0.6374060565835492\n",
      "Epoch 17/30\n",
      "102/102 [==============================] - 8s 76ms/step - loss: 0.6453\n",
      "Epoch 17/30\n",
      "Validation: normalized_discounted_cumulative_gain@3(0.0): 0.6404445858995361 - normalized_discounted_cumulative_gain@5(0.0): 0.6779094901235357 - mean_average_precision(0.0): 0.637893149496344\n",
      "Epoch 18/30\n",
      "102/102 [==============================] - 7s 71ms/step - loss: 0.6359\n",
      "Validation: normalized_discounted_cumulative_gain@3(0.0): 0.6314886944550752 - normalized_discounted_cumulative_gain@5(0.0): 0.675279309367111 - mean_average_precision(0.0): 0.6373454318600187\n",
      "Epoch 19/30\n",
      "102/102 [==============================] - 8s 74ms/step - loss: 0.6306\n",
      "Epoch 19/30\n",
      "Validation: normalized_discounted_cumulative_gain@3(0.0): 0.6224030149189221 - normalized_discounted_cumulative_gain@5(0.0): 0.6688653472149919 - mean_average_precision(0.0): 0.6291088196377644\n",
      "Epoch 20/30\n",
      "102/102 [==============================] - 7s 73ms/step - loss: 0.6253\n",
      "Validation: normalized_discounted_cumulative_gain@3(0.0): 0.6224030149189221 - normalized_discounted_cumulative_gain@5(0.0): 0.6688653472149919 - mean_average_precision(0.0): 0.6291088196377644\n",
      "Validation: normalized_discounted_cumulative_gain@3(0.0): 0.6233930544252994 - normalized_discounted_cumulative_gain@5(0.0): 0.674156690753133 - mean_average_precision(0.0): 0.632700200157825\n",
      "Epoch 21/30\n",
      "102/102 [==============================] - 8s 75ms/step - loss: 0.6187\n",
      "Validation: normalized_discounted_cumulative_gain@3(0.0): 0.6233930544252994 - normalized_discounted_cumulative_gain@5(0.0): 0.674156690753133 - mean_average_precision(0.0): 0.632700200157825\n",
      "Validation: normalized_discounted_cumulative_gain@3(0.0): 0.6245968093018016 - normalized_discounted_cumulative_gain@5(0.0): 0.6757771949414996 - mean_average_precision(0.0): 0.6334415649814683\n",
      "Epoch 22/30\n",
      "102/102 [==============================] - 7s 71ms/step - loss: 0.6146\n",
      "Validation: normalized_discounted_cumulative_gain@3(0.0): 0.627531716945488 - normalized_discounted_cumulative_gain@5(0.0): 0.6769197039119518 - mean_average_precision(0.0): 0.6341693826396657\n",
      "Epoch 23/30\n"
     ]
    },
    {
     "name": "stdout",
     "output_type": "stream",
     "text": [
      "102/102 [==============================] - 8s 75ms/step - loss: 0.6094\n",
      "Validation: normalized_discounted_cumulative_gain@3(0.0): 0.627531716945488 - normalized_discounted_cumulative_gain@5(0.0): 0.6769197039119518 - mean_average_precision(0.0): 0.6341693826396657\n",
      "Epoch 23/30\n",
      "Validation: normalized_discounted_cumulative_gain@3(0.0): 0.6200477270110192 - normalized_discounted_cumulative_gain@5(0.0): 0.6744459622116895 - mean_average_precision(0.0): 0.6309813845149587\n",
      "Epoch 24/30\n",
      "102/102 [==============================] - 7s 72ms/step - loss: 0.6041\n",
      "Epoch 24/30\n",
      "Validation: normalized_discounted_cumulative_gain@3(0.0): 0.6260187766210515 - normalized_discounted_cumulative_gain@5(0.0): 0.6776703124693056 - mean_average_precision(0.0): 0.6369712824166213\n",
      "Epoch 25/30\n",
      "101/102 [============================>.] - ETA: 0s - loss: 0.5976\n",
      "Validation: normalized_discounted_cumulative_gain@3(0.0): 0.6260187766210515 - normalized_discounted_cumulative_gain@5(0.0): 0.6776703124693056 - mean_average_precision(0.0): 0.6369712824166213\n",
      "102/102 [==============================] - 8s 79ms/step - loss: 0.5991\n",
      "Validation: normalized_discounted_cumulative_gain@3(0.0): 0.6142223429015817 - normalized_discounted_cumulative_gain@5(0.0): 0.6651080771640894 - mean_average_precision(0.0): 0.6236750480946982\n",
      "Epoch 26/30\n",
      "102/102 [==============================] - 7s 70ms/step - loss: 0.5968\n",
      "Validation: normalized_discounted_cumulative_gain@3(0.0): 0.6165603731497318 - normalized_discounted_cumulative_gain@5(0.0): 0.6669051954046883 - mean_average_precision(0.0): 0.6259158352852249\n",
      "Epoch 27/30\n",
      "102/102 [==============================] - 8s 78ms/step - loss: 0.5910\n",
      "Validation: normalized_discounted_cumulative_gain@3(0.0): 0.6087728632432321 - normalized_discounted_cumulative_gain@5(0.0): 0.6628481769034252 - mean_average_precision(0.0): 0.6202166294277911\n",
      "Epoch 28/30\n",
      "102/102 [==============================] - 6s 63ms/step - loss: 0.5887\n",
      "Epoch 28/30\n",
      "Validation: normalized_discounted_cumulative_gain@3(0.0): 0.6154908540530706 - normalized_discounted_cumulative_gain@5(0.0): 0.6629795666120435 - mean_average_precision(0.0): 0.624048508436513\n",
      "Epoch 29/30\n",
      "102/102 [==============================] - 6s 63ms/step - loss: 0.5843\n",
      "Validation: normalized_discounted_cumulative_gain@3(0.0): 0.6131571090299734 - normalized_discounted_cumulative_gain@5(0.0): 0.6612840152349587 - mean_average_precision(0.0): 0.620080578184145\n",
      "Epoch 30/30\n",
      "101/102 [============================>.] - ETA: 0s - loss: 0.5823Validation: normalized_discounted_cumulative_gain@3(0.0): 0.6131571090299734 - normalized_discounted_cumulative_gain@5(0.0): 0.6612840152349587 - mean_average_precision(0.0): 0.620080578184145\n",
      "\n",
      "102/102 [==============================] - 7s 71ms/step - loss: 0.5813\n",
      "Validation: normalized_discounted_cumulative_gain@3(0.0): 0.6198546616641378 - normalized_discounted_cumulative_gain@5(0.0): 0.6646733999422081 - mean_average_precision(0.0): 0.6242461500712359\n"
     ]
    }
   ],
   "source": [
    "history = model.fit_generator(train_generator, epochs=30, callbacks=[evaluate], workers=30, use_multiprocessing=True)"
   ]
  },
  {
   "cell_type": "code",
   "execution_count": 16,
   "metadata": {},
   "outputs": [
    {
     "data": {
      "text/plain": [
       "array([[ 1.5303962 ],\n",
       "       [ 0.30404466],\n",
       "       [ 1.592996  ],\n",
       "       [ 1.6210198 ],\n",
       "       [ 0.26755413],\n",
       "       [-0.8538296 ],\n",
       "       [-2.118522  ],\n",
       "       [ 0.6409646 ],\n",
       "       [-2.8159575 ],\n",
       "       [ 1.0737036 ]], dtype=float32)"
      ]
     },
     "execution_count": 16,
     "metadata": {},
     "output_type": "execute_result"
    }
   ],
   "source": [
    "drmm_model = mz.load_model('./drmm_pretrained_model/16')\n",
    "test_generator = mz.HistogramDataGenerator(data_pack=valid_pack_processed[:10],\n",
    "                                           embedding_matrix=embedding_matrix,\n",
    "                                           bin_size=bin_size, \n",
    "                                           hist_mode='LCH')\n",
    "test_x, test_y = test_generator[:]\n",
    "prediction = drmm_model.predict(test_x)\n",
    "prediction"
   ]
  },
  {
   "cell_type": "code",
   "execution_count": 17,
   "metadata": {},
   "outputs": [],
   "source": [
    "import shutil\n",
    "shutil.rmtree('./drmm_pretrained_model/')"
   ]
  },
  {
   "cell_type": "code",
   "execution_count": null,
   "metadata": {},
   "outputs": [],
   "source": []
  }
 ],
 "metadata": {
  "kernelspec": {
   "display_name": "Python mz",
   "language": "python",
   "name": "mz"
  },
  "language_info": {
   "codemirror_mode": {
    "name": "ipython",
    "version": 3
   },
   "file_extension": ".py",
   "mimetype": "text/x-python",
   "name": "python",
   "nbconvert_exporter": "python",
   "pygments_lexer": "ipython3",
   "version": "3.6.7"
  }
 },
 "nbformat": 4,
 "nbformat_minor": 2
}
