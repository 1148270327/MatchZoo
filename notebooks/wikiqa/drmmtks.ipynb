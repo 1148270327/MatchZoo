{
 "cells": [
  {
   "cell_type": "code",
   "execution_count": 1,
   "metadata": {},
   "outputs": [
    {
     "name": "stderr",
     "output_type": "stream",
     "text": [
      "Using TensorFlow backend.\n",
      "/data/users/fyx/.local/python3/lib/python3.6/importlib/_bootstrap.py:219: RuntimeWarning: numpy.dtype size changed, may indicate binary incompatibility. Expected 96, got 88\n",
      "  return f(*args, **kwds)\n",
      "/data/users/fyx/.local/python3/lib/python3.6/importlib/_bootstrap.py:219: RuntimeWarning: numpy.dtype size changed, may indicate binary incompatibility. Expected 96, got 88\n",
      "  return f(*args, **kwds)\n"
     ]
    }
   ],
   "source": [
    "import keras\n",
    "import pandas as pd\n",
    "import numpy as np\n",
    "import matchzoo as mz"
   ]
  },
  {
   "cell_type": "code",
   "execution_count": 2,
   "metadata": {},
   "outputs": [],
   "source": [
    "train_pack = mz.datasets.wiki_qa.load_data('train', task='ranking')\n",
    "valid_pack = mz.datasets.wiki_qa.load_data('dev', task='ranking', filter=True)\n",
    "predict_pack = mz.datasets.wiki_qa.load_data('test', task='ranking', filter=True)"
   ]
  },
  {
   "cell_type": "code",
   "execution_count": 3,
   "metadata": {},
   "outputs": [
    {
     "name": "stderr",
     "output_type": "stream",
     "text": [
      "Processing text_left with chain_transform of TokenizeUnit => LowercaseUnit => PuncRemovalUnit: 100%|██████████| 2118/2118 [00:00<00:00, 8100.12it/s]\n",
      "Processing text_right with chain_transform of TokenizeUnit => LowercaseUnit => PuncRemovalUnit: 100%|██████████| 18841/18841 [00:04<00:00, 4556.77it/s]\n",
      "Processing text_right with append: 100%|██████████| 18841/18841 [00:00<00:00, 627754.55it/s]\n",
      "Building FrequencyFilterUnit from a datapack.: 100%|██████████| 18841/18841 [00:00<00:00, 122712.11it/s]\n",
      "Processing text_right with transform: 100%|██████████| 18841/18841 [00:00<00:00, 79107.23it/s] \n",
      "Processing text_left with extend: 100%|██████████| 2118/2118 [00:00<00:00, 551601.11it/s]\n",
      "Processing text_right with extend: 100%|██████████| 18841/18841 [00:00<00:00, 643603.71it/s]\n",
      "Building VocabularyUnit from a datapack.: 100%|██████████| 404415/404415 [00:00<00:00, 2595785.58it/s]\n",
      "Processing text_left with chain_transform of TokenizeUnit => LowercaseUnit => PuncRemovalUnit: 100%|██████████| 2118/2118 [00:00<00:00, 8542.72it/s]\n",
      "Processing text_right with chain_transform of TokenizeUnit => LowercaseUnit => PuncRemovalUnit: 100%|██████████| 18841/18841 [00:03<00:00, 4715.19it/s]\n",
      "Processing text_right with transform: 100%|██████████| 18841/18841 [00:00<00:00, 107893.67it/s]\n",
      "Processing text_left with transform: 100%|██████████| 2118/2118 [00:00<00:00, 190998.60it/s]\n",
      "Processing text_right with transform: 100%|██████████| 18841/18841 [00:00<00:00, 104865.67it/s]\n",
      "Processing length_left with len: 100%|██████████| 2118/2118 [00:00<00:00, 352619.21it/s]\n",
      "Processing length_right with len: 100%|██████████| 18841/18841 [00:00<00:00, 659799.80it/s]\n",
      "Processing text_left with transform: 100%|██████████| 2118/2118 [00:00<00:00, 105032.41it/s]\n",
      "Processing text_right with transform: 100%|██████████| 18841/18841 [00:00<00:00, 85031.32it/s]\n"
     ]
    }
   ],
   "source": [
    "preprocessor = mz.preprocessors.BasicPreprocessor(fixed_length_left=10, fixed_length_right=40, remove_stop_words=True)\n",
    "train_pack_processed = preprocessor.fit_transform(train_pack)"
   ]
  },
  {
   "cell_type": "code",
   "execution_count": 4,
   "metadata": {
    "scrolled": false
   },
   "outputs": [
    {
     "name": "stderr",
     "output_type": "stream",
     "text": [
      "Processing text_left with chain_transform of TokenizeUnit => LowercaseUnit => PuncRemovalUnit: 100%|██████████| 122/122 [00:00<00:00, 8563.96it/s]\n",
      "Processing text_right with chain_transform of TokenizeUnit => LowercaseUnit => PuncRemovalUnit: 100%|██████████| 1115/1115 [00:00<00:00, 4623.93it/s]\n",
      "Processing text_right with transform: 100%|██████████| 1115/1115 [00:00<00:00, 107152.00it/s]\n",
      "Processing text_left with transform: 100%|██████████| 122/122 [00:00<00:00, 91752.75it/s]\n",
      "Processing text_right with transform: 100%|██████████| 1115/1115 [00:00<00:00, 109698.09it/s]\n",
      "Processing length_left with len: 100%|██████████| 122/122 [00:00<00:00, 137518.16it/s]\n",
      "Processing length_right with len: 100%|██████████| 1115/1115 [00:00<00:00, 522355.52it/s]\n",
      "Processing text_left with transform: 100%|██████████| 122/122 [00:00<00:00, 70347.14it/s]\n",
      "Processing text_right with transform: 100%|██████████| 1115/1115 [00:00<00:00, 61403.97it/s]\n",
      "Processing text_left with chain_transform of TokenizeUnit => LowercaseUnit => PuncRemovalUnit: 100%|██████████| 237/237 [00:00<00:00, 6386.32it/s]\n",
      "Processing text_right with chain_transform of TokenizeUnit => LowercaseUnit => PuncRemovalUnit: 100%|██████████| 2300/2300 [00:00<00:00, 4401.02it/s]\n",
      "Processing text_right with transform: 100%|██████████| 2300/2300 [00:00<00:00, 18343.95it/s]\n",
      "Processing text_left with transform: 100%|██████████| 237/237 [00:00<00:00, 130572.71it/s]\n",
      "Processing text_right with transform: 100%|██████████| 2300/2300 [00:00<00:00, 116244.51it/s]\n",
      "Processing length_left with len: 100%|██████████| 237/237 [00:00<00:00, 192720.06it/s]\n",
      "Processing length_right with len: 100%|██████████| 2300/2300 [00:00<00:00, 152457.48it/s]\n",
      "Processing text_left with transform: 100%|██████████| 237/237 [00:00<00:00, 72920.34it/s]\n",
      "Processing text_right with transform: 100%|██████████| 2300/2300 [00:00<00:00, 83605.46it/s]\n"
     ]
    }
   ],
   "source": [
    "valid_pack_processed = preprocessor.transform(valid_pack)\n",
    "predict_pack_processed = preprocessor.transform(predict_pack)"
   ]
  },
  {
   "cell_type": "code",
   "execution_count": 5,
   "metadata": {},
   "outputs": [],
   "source": [
    "ranking_task = mz.tasks.Ranking(loss=mz.losses.RankHingeLoss())\n",
    "ranking_task.metrics = [\n",
    "    mz.metrics.NormalizedDiscountedCumulativeGain(k=3),\n",
    "    mz.metrics.NormalizedDiscountedCumulativeGain(k=5),\n",
    "    mz.metrics.MeanAveragePrecision()\n",
    "]"
   ]
  },
  {
   "cell_type": "code",
   "execution_count": 6,
   "metadata": {
    "scrolled": false
   },
   "outputs": [
    {
     "name": "stdout",
     "output_type": "stream",
     "text": [
      "Parameter \"name\" set to DRMMTKSModel.\n",
      "Parameter \"embedding_trainable\" set to True.\n",
      "__________________________________________________________________________________________________\n",
      "Layer (type)                    Output Shape         Param #     Connected to                     \n",
      "==================================================================================================\n",
      "text_left (InputLayer)          (None, 10)           0                                            \n",
      "__________________________________________________________________________________________________\n",
      "text_right (InputLayer)         (None, 40)           0                                            \n",
      "__________________________________________________________________________________________________\n",
      "embedding (Embedding)           multiple             1667400     text_left[0][0]                  \n",
      "                                                                 text_right[0][0]                 \n",
      "__________________________________________________________________________________________________\n",
      "dot_1 (Dot)                     (None, 10, 40)       0           embedding[0][0]                  \n",
      "                                                                 embedding[1][0]                  \n",
      "__________________________________________________________________________________________________\n",
      "lambda_2 (Lambda)               (None, 10, 20)       0           dot_1[0][0]                      \n",
      "__________________________________________________________________________________________________\n",
      "dense_1 (Dense)                 (None, 10, 1)        100         embedding[0][0]                  \n",
      "__________________________________________________________________________________________________\n",
      "dense_2 (Dense)                 (None, 10, 5)        105         lambda_2[0][0]                   \n",
      "__________________________________________________________________________________________________\n",
      "lambda_1 (Lambda)               (None, 10, 1)        0           dense_1[0][0]                    \n",
      "__________________________________________________________________________________________________\n",
      "dense_3 (Dense)                 (None, 10, 1)        6           dense_2[0][0]                    \n",
      "__________________________________________________________________________________________________\n",
      "dot_2 (Dot)                     (None, 1, 1)         0           lambda_1[0][0]                   \n",
      "                                                                 dense_3[0][0]                    \n",
      "__________________________________________________________________________________________________\n",
      "flatten_1 (Flatten)             (None, 1)            0           dot_2[0][0]                      \n",
      "__________________________________________________________________________________________________\n",
      "dense_4 (Dense)                 (None, 1)            2           flatten_1[0][0]                  \n",
      "==================================================================================================\n",
      "Total params: 1,667,613\n",
      "Trainable params: 1,667,613\n",
      "Non-trainable params: 0\n",
      "__________________________________________________________________________________________________\n"
     ]
    }
   ],
   "source": [
    "model = mz.models.DRMMTKSModel()\n",
    "model.params['input_shapes'] = preprocessor.context['input_shapes']\n",
    "model.params['task'] = ranking_task\n",
    "model.params['top_k'] = 20\n",
    "model.params['embedding_input_dim'] = preprocessor.context['vocab_size'] + 1\n",
    "model.params['embedding_output_dim'] = 100\n",
    "model.params['mlp_num_layers'] = 1\n",
    "model.params['mlp_num_units'] = 5\n",
    "model.params['mlp_num_fan_out'] = 1\n",
    "model.params['mlp_activation_func'] = 'relu'\n",
    "model.params['optimizer'] = 'adadelta'\n",
    "model.guess_and_fill_missing_params()\n",
    "model.build()\n",
    "model.compile()\n",
    "model.backend.summary()"
   ]
  },
  {
   "cell_type": "code",
   "execution_count": 7,
   "metadata": {},
   "outputs": [],
   "source": [
    "glove_embedding = mz.datasets.embeddings.load_glove_embedding(dimension=100)\n",
    "embedding_matrix = glove_embedding.build_matrix(preprocessor.context['vocab_unit'].state['term_index'])"
   ]
  },
  {
   "cell_type": "code",
   "execution_count": 8,
   "metadata": {},
   "outputs": [],
   "source": [
    "model.load_embedding_matrix(embedding_matrix)"
   ]
  },
  {
   "cell_type": "code",
   "execution_count": 11,
   "metadata": {},
   "outputs": [],
   "source": [
    "pred_x, pred_y = predict_pack_processed[:].unpack()\n",
    "evaluate = mz.callbacks.EvaluateAllMetrics(model, x=pred_x, y=pred_y, batch_size=len(pred_x))"
   ]
  },
  {
   "cell_type": "code",
   "execution_count": 12,
   "metadata": {},
   "outputs": [
    {
     "data": {
      "text/plain": [
       "102"
      ]
     },
     "execution_count": 12,
     "metadata": {},
     "output_type": "execute_result"
    }
   ],
   "source": [
    "train_generator = mz.PairDataGenerator(train_pack_processed, num_dup=2, num_neg=1, batch_size=20)\n",
    "len(train_generator)"
   ]
  },
  {
   "cell_type": "code",
   "execution_count": 13,
   "metadata": {
    "scrolled": false
   },
   "outputs": [
    {
     "name": "stdout",
     "output_type": "stream",
     "text": [
      "Epoch 1/30\n",
      "102/102 [==============================] - 8s 74ms/step - loss: 0.9897\n",
      "Validation: loss:nan - normalized_discounted_cumulative_gain@3(0):0.396902 - normalized_discounted_cumulative_gain@5(0):0.464433 - mean_average_precision(0):0.430199\n",
      "Epoch 2/30\n",
      "102/102 [==============================] - 7s 70ms/step - loss: 0.8668\n",
      "Validation: loss:nan - normalized_discounted_cumulative_gain@3(0):0.437096 - normalized_discounted_cumulative_gain@5(0):0.510001 - mean_average_precision(0):0.470887\n",
      "Epoch 3/30\n",
      "102/102 [==============================] - 5s 46ms/step - loss: 0.8391\n",
      "Validation: loss:nan - normalized_discounted_cumulative_gain@3(0):0.507436 - normalized_discounted_cumulative_gain@5(0):0.564273 - mean_average_precision(0):0.529484\n",
      "Epoch 4/30\n",
      "102/102 [==============================] - 4s 42ms/step - loss: 0.8075\n",
      "Validation: loss:nan - normalized_discounted_cumulative_gain@3(0):0.522388 - normalized_discounted_cumulative_gain@5(0):0.575942 - mean_average_precision(0):0.542015\n",
      "Epoch 5/30\n",
      "102/102 [==============================] - 3s 32ms/step - loss: 0.7695\n",
      "Validation: loss:nan - normalized_discounted_cumulative_gain@3(0):0.532002 - normalized_discounted_cumulative_gain@5(0):0.586725 - mean_average_precision(0):0.551323\n",
      "Epoch 6/30\n",
      "102/102 [==============================] - 3s 33ms/step - loss: 0.7168\n",
      "Validation: loss:nan - normalized_discounted_cumulative_gain@3(0):0.550565 - normalized_discounted_cumulative_gain@5(0):0.599606 - mean_average_precision(0):0.567643\n",
      "Epoch 7/30\n",
      "102/102 [==============================] - 5s 44ms/step - loss: 0.6590\n",
      "Validation: loss:nan - normalized_discounted_cumulative_gain@3(0):0.575366 - normalized_discounted_cumulative_gain@5(0):0.636151 - mean_average_precision(0):0.599664\n",
      "Epoch 8/30\n",
      "102/102 [==============================] - 5s 46ms/step - loss: 0.6107\n",
      "Validation: loss:nan - normalized_discounted_cumulative_gain@3(0):0.596959 - normalized_discounted_cumulative_gain@5(0):0.655203 - mean_average_precision(0):0.621634\n",
      "Epoch 9/30\n",
      "102/102 [==============================] - 3s 33ms/step - loss: 0.5603\n",
      "Validation: loss:nan - normalized_discounted_cumulative_gain@3(0):0.609261 - normalized_discounted_cumulative_gain@5(0):0.671040 - mean_average_precision(0):0.627637\n",
      "Epoch 10/30\n",
      "102/102 [==============================] - 5s 46ms/step - loss: 0.5122\n",
      "Validation: loss:nan - normalized_discounted_cumulative_gain@3(0):0.625755 - normalized_discounted_cumulative_gain@5(0):0.679791 - mean_average_precision(0):0.641898\n",
      "Epoch 11/30\n",
      "102/102 [==============================] - 4s 43ms/step - loss: 0.4706\n",
      "Validation: loss:nan - normalized_discounted_cumulative_gain@3(0):0.625064 - normalized_discounted_cumulative_gain@5(0):0.669860 - mean_average_precision(0):0.630426\n",
      "Epoch 12/30\n",
      "102/102 [==============================] - 3s 34ms/step - loss: 0.4341\n",
      "Validation: loss:nan - normalized_discounted_cumulative_gain@3(0):0.621950 - normalized_discounted_cumulative_gain@5(0):0.667773 - mean_average_precision(0):0.629839\n",
      "Epoch 13/30\n",
      "102/102 [==============================] - 4s 39ms/step - loss: 0.4028\n",
      "Validation: loss:nan - normalized_discounted_cumulative_gain@3(0):0.610094 - normalized_discounted_cumulative_gain@5(0):0.658551 - mean_average_precision(0):0.614519\n",
      "Epoch 14/30\n",
      "102/102 [==============================] - 4s 37ms/step - loss: 0.3736\n",
      "Validation: loss:nan - normalized_discounted_cumulative_gain@3(0):0.600495 - normalized_discounted_cumulative_gain@5(0):0.652273 - mean_average_precision(0):0.605133\n",
      "Epoch 15/30\n",
      "102/102 [==============================] - 4s 41ms/step - loss: 0.3456\n",
      "Validation: loss:nan - normalized_discounted_cumulative_gain@3(0):0.608377 - normalized_discounted_cumulative_gain@5(0):0.649998 - mean_average_precision(0):0.609459\n",
      "Epoch 16/30\n",
      "102/102 [==============================] - 4s 36ms/step - loss: 0.3207\n",
      "Validation: loss:nan - normalized_discounted_cumulative_gain@3(0):0.607686 - normalized_discounted_cumulative_gain@5(0):0.656554 - mean_average_precision(0):0.612726\n",
      "Epoch 17/30\n",
      "102/102 [==============================] - 4s 39ms/step - loss: 0.2981\n",
      "Validation: loss:nan - normalized_discounted_cumulative_gain@3(0):0.608815 - normalized_discounted_cumulative_gain@5(0):0.654241 - mean_average_precision(0):0.610356\n",
      "Epoch 18/30\n",
      "102/102 [==============================] - 4s 36ms/step - loss: 0.2757\n",
      "Validation: loss:nan - normalized_discounted_cumulative_gain@3(0):0.594818 - normalized_discounted_cumulative_gain@5(0):0.648326 - mean_average_precision(0):0.598868\n",
      "Epoch 19/30\n",
      "102/102 [==============================] - 4s 36ms/step - loss: 0.2548\n",
      "Validation: loss:nan - normalized_discounted_cumulative_gain@3(0):0.602868 - normalized_discounted_cumulative_gain@5(0):0.650812 - mean_average_precision(0):0.603220\n",
      "Epoch 20/30\n",
      "102/102 [==============================] - 4s 38ms/step - loss: 0.2340\n",
      "Validation: loss:nan - normalized_discounted_cumulative_gain@3(0):0.610541 - normalized_discounted_cumulative_gain@5(0):0.652983 - mean_average_precision(0):0.610777\n",
      "Epoch 21/30\n",
      "102/102 [==============================] - 4s 41ms/step - loss: 0.2150\n",
      "Validation: loss:nan - normalized_discounted_cumulative_gain@3(0):0.601953 - normalized_discounted_cumulative_gain@5(0):0.652260 - mean_average_precision(0):0.605389\n",
      "Epoch 22/30\n",
      "102/102 [==============================] - 4s 41ms/step - loss: 0.1962\n",
      "Validation: loss:nan - normalized_discounted_cumulative_gain@3(0):0.597993 - normalized_discounted_cumulative_gain@5(0):0.651074 - mean_average_precision(0):0.602781\n",
      "Epoch 23/30\n",
      "102/102 [==============================] - 4s 36ms/step - loss: 0.1815\n",
      "Validation: loss:nan - normalized_discounted_cumulative_gain@3(0):0.596464 - normalized_discounted_cumulative_gain@5(0):0.647324 - mean_average_precision(0):0.600233\n",
      "Epoch 24/30\n",
      "102/102 [==============================] - 3s 34ms/step - loss: 0.1656\n",
      "Validation: loss:nan - normalized_discounted_cumulative_gain@3(0):0.595095 - normalized_discounted_cumulative_gain@5(0):0.646935 - mean_average_precision(0):0.597406\n",
      "Epoch 25/30\n",
      "102/102 [==============================] - 4s 41ms/step - loss: 0.1531\n",
      "Validation: loss:nan - normalized_discounted_cumulative_gain@3(0):0.593553 - normalized_discounted_cumulative_gain@5(0):0.647836 - mean_average_precision(0):0.600754\n",
      "Epoch 26/30\n",
      "102/102 [==============================] - 3s 33ms/step - loss: 0.1426\n",
      "Validation: loss:nan - normalized_discounted_cumulative_gain@3(0):0.597170 - normalized_discounted_cumulative_gain@5(0):0.648302 - mean_average_precision(0):0.600286\n",
      "Epoch 27/30\n",
      "102/102 [==============================] - 4s 38ms/step - loss: 0.1315\n",
      "Validation: loss:nan - normalized_discounted_cumulative_gain@3(0):0.595110 - normalized_discounted_cumulative_gain@5(0):0.649600 - mean_average_precision(0):0.601236\n",
      "Epoch 28/30\n",
      "102/102 [==============================] - 4s 43ms/step - loss: 0.1189\n",
      "Validation: loss:nan - normalized_discounted_cumulative_gain@3(0):0.590676 - normalized_discounted_cumulative_gain@5(0):0.647223 - mean_average_precision(0):0.601519\n",
      "Epoch 29/30\n",
      "102/102 [==============================] - 4s 41ms/step - loss: 0.1091\n",
      "Validation: loss:nan - normalized_discounted_cumulative_gain@3(0):0.586168 - normalized_discounted_cumulative_gain@5(0):0.648166 - mean_average_precision(0):0.600514\n",
      "Epoch 30/30\n",
      "102/102 [==============================] - 4s 37ms/step - loss: 0.0978\n",
      "Validation: loss:nan - normalized_discounted_cumulative_gain@3(0):0.587565 - normalized_discounted_cumulative_gain@5(0):0.649408 - mean_average_precision(0):0.601734\n"
     ]
    }
   ],
   "source": [
    "history = model.fit_generator(train_generator, epochs=30, callbacks=[evaluate], workers=30, use_multiprocessing=True)"
   ]
  }
 ],
 "metadata": {
  "kernelspec": {
   "display_name": "Python 3",
   "language": "python",
   "name": "python3"
  },
  "language_info": {
   "codemirror_mode": {
    "name": "ipython",
    "version": 3
   },
   "file_extension": ".py",
   "mimetype": "text/x-python",
   "name": "python",
   "nbconvert_exporter": "python",
   "pygments_lexer": "ipython3",
   "version": "3.6.5"
  }
 },
 "nbformat": 4,
 "nbformat_minor": 2
}
